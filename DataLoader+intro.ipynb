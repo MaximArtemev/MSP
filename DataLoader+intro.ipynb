{
 "cells": [
  {
   "cell_type": "markdown",
   "metadata": {},
   "source": [
    "### Часть 0\n",
    "\n",
    "Вы уже знаете что такое классы в других языках программирования. Когда мы писали свои нейронные сетки, мы создавали ее класс\n",
    "\n",
    "Сам класс состоит из нескольких функций. Некоторые функции - те, которые начинаются и заканчиваются с \\__ называются служебными.\n",
    "\n",
    "Например:"
   ]
  },
  {
   "cell_type": "code",
   "execution_count": 2,
   "metadata": {
    "collapsed": true
   },
   "outputs": [],
   "source": [
    "class Vehicle:\n",
    "    def __init__(self):\n",
    "        # __init__ вызовется когда мы создадим экземпляр классса\n",
    "        print(\"I'm alive\")"
   ]
  },
  {
   "cell_type": "code",
   "execution_count": 3,
   "metadata": {
    "collapsed": false
   },
   "outputs": [
    {
     "name": "stdout",
     "output_type": "stream",
     "text": [
      "I'm alive\n"
     ]
    }
   ],
   "source": [
    "v = Vehicle()"
   ]
  },
  {
   "cell_type": "markdown",
   "metadata": {},
   "source": [
    "Кроме \\__init\\__ есть много разных служебных функций, о них будем узнавать в процессе тетрадки\n",
    "\n",
    "Сейчас давайте усложним класс"
   ]
  },
  {
   "cell_type": "code",
   "execution_count": 10,
   "metadata": {
    "collapsed": true
   },
   "outputs": [],
   "source": [
    "class Vehicle:\n",
    "    def __init__(self, color):\n",
    "        self.color = color\n",
    "    \n",
    "    def recolor(self, color):\n",
    "        print('Old color was {}, new color is {}'.format(self.color, color))\n",
    "        self.color = color"
   ]
  },
  {
   "cell_type": "code",
   "execution_count": 11,
   "metadata": {
    "collapsed": true
   },
   "outputs": [],
   "source": [
    "veh1 = Vehicle('Red')\n",
    "veh2 = Vehicle('Blue')"
   ]
  },
  {
   "cell_type": "code",
   "execution_count": 12,
   "metadata": {
    "collapsed": false
   },
   "outputs": [
    {
     "name": "stdout",
     "output_type": "stream",
     "text": [
      "Old color was Red, new color is Black\n"
     ]
    }
   ],
   "source": [
    "veh1.recolor('Black')"
   ]
  },
  {
   "cell_type": "markdown",
   "metadata": {},
   "source": [
    "Кроме того, можно наследоваться от других классов, чтобы сохранить их функции. Напрмер"
   ]
  },
  {
   "cell_type": "code",
   "execution_count": 17,
   "metadata": {
    "collapsed": true
   },
   "outputs": [],
   "source": [
    "class RaceCar(Vehicle):\n",
    "    def race(self):\n",
    "        print('Racing')"
   ]
  },
  {
   "cell_type": "code",
   "execution_count": 18,
   "metadata": {
    "collapsed": false
   },
   "outputs": [
    {
     "name": "stdout",
     "output_type": "stream",
     "text": [
      "Old color was Gold, new color is Blue\n",
      "Racing\n"
     ]
    }
   ],
   "source": [
    "r = RaceCar('Gold')\n",
    "r.recolor('Blue')\n",
    "r.race()"
   ]
  },
  {
   "cell_type": "code",
   "execution_count": null,
   "metadata": {
    "collapsed": true
   },
   "outputs": [],
   "source": []
  },
  {
   "cell_type": "markdown",
   "metadata": {},
   "source": [
    "### Часть 1\n",
    "\n",
    "Зачем нам это?\n",
    "\n",
    "Когда мы учим сетки, нам нужно не просто настакать кучу слоев и отправить учиться. Нам нужно построить архитектуру вокруг сетки. Например, данные не берутся из ниоткуда.\n",
    "\n",
    "В прошлых примерах мы использовали готовые Dataloader'ы. Почти всегда в реальном мире такого не бывает.\n",
    "\n",
    "Поэтому мы сейчас научимся писать их сами."
   ]
  },
  {
   "cell_type": "code",
   "execution_count": 152,
   "metadata": {
    "collapsed": true
   },
   "outputs": [],
   "source": [
    "from torch.utils.data import Dataset, DataLoader\n",
    "\n",
    "import numpy as np\n",
    "import pandas as pd\n",
    "\n",
    "from sklearn.metrics import roc_auc_score, accuracy_score\n",
    "\n",
    "import matplotlib.pyplot as plt\n",
    "%matplotlib inline"
   ]
  },
  {
   "cell_type": "markdown",
   "metadata": {},
   "source": [
    "Первое что нам понадобится - Dataset\n",
    "\n",
    "Он нужен чтобы мы могли получить из любой структуры данных удобную итерируемую структуру\n",
    "\n",
    "Это удобная штука, которая имеет внутри себя все нужные нам функции. Нам нужно только переписать те, которые потребуется конкретно нам"
   ]
  },
  {
   "cell_type": "code",
   "execution_count": 77,
   "metadata": {
    "collapsed": true
   },
   "outputs": [],
   "source": [
    "class MyDataset(Dataset):\n",
    "    def __init__(self, data):\n",
    "        # Пусть data будет pandas DataFrame\n",
    "        self.labels = data['Survived']\n",
    "        self.data = data.drop('Survived', axis=1)\n",
    "\n",
    "        \n",
    "    def __len__(self):\n",
    "        # Это нужно чтобы мы могли определять длину нашего объекта\n",
    "        return self.data.shape[0]\n",
    "    \n",
    "    \n",
    "    def __getitem__(self, index):\n",
    "        # Здесь мы хотим чтобы наш класс умел по индеку отдавать нужную часть данных\n",
    "        return np.array(self.data.iloc[index]), np.array([self.labels.iloc[index]])"
   ]
  },
  {
   "cell_type": "markdown",
   "metadata": {},
   "source": [
    "Теперь давайте поработаем с уже известным всем нам Титаником как игрушечным примером. \n",
    "\n",
    "В реальной жизни никто не пытается строить нейронные сети для такого маленького количества данных, но мы попробуем"
   ]
  },
  {
   "cell_type": "code",
   "execution_count": 123,
   "metadata": {
    "collapsed": false
   },
   "outputs": [],
   "source": [
    "train = pd.read_csv('../titanik_train.csv')"
   ]
  },
  {
   "cell_type": "code",
   "execution_count": 124,
   "metadata": {
    "collapsed": false
   },
   "outputs": [],
   "source": [
    "train.drop(['PassengerId', 'Name', 'Ticket'], axis=1, inplace=True)\n",
    "train = train.fillna(0)\n",
    "train = pd.get_dummies(train, columns=['Pclass', 'Sex', 'SibSp', 'Parch', 'Cabin', 'Embarked'], dummy_na=True)"
   ]
  },
  {
   "cell_type": "code",
   "execution_count": 125,
   "metadata": {
    "collapsed": false
   },
   "outputs": [],
   "source": [
    "titanikDset = MyDataset(train)"
   ]
  },
  {
   "cell_type": "code",
   "execution_count": 129,
   "metadata": {
    "collapsed": false
   },
   "outputs": [
    {
     "data": {
      "text/plain": [
       "<__main__.MyDataset at 0x11d943ef0>"
      ]
     },
     "execution_count": 129,
     "metadata": {},
     "output_type": "execute_result"
    }
   ],
   "source": [
    "titanikDset"
   ]
  },
  {
   "cell_type": "markdown",
   "metadata": {},
   "source": [
    "Теперь когда у нас есть Dataset с нашей таблицей, давайте сделаем так, чтобы мы могли учить модель не по одному экземпляру, а батчами\n",
    "\n",
    "Для этого есть удобный Dataloader"
   ]
  },
  {
   "cell_type": "code",
   "execution_count": 130,
   "metadata": {
    "collapsed": true
   },
   "outputs": [],
   "source": [
    "titanikDataloader = DataLoader(titanikDset, batch_size=16, shuffle=True)"
   ]
  },
  {
   "cell_type": "code",
   "execution_count": 131,
   "metadata": {
    "collapsed": false
   },
   "outputs": [
    {
     "data": {
      "text/plain": [
       "[\n",
       "  33.0000   5.0000   1.0000  ...    0.0000   1.0000   0.0000\n",
       "  22.0000   7.2500   0.0000  ...    0.0000   1.0000   0.0000\n",
       "  30.0000  12.3500   0.0000  ...    1.0000   0.0000   0.0000\n",
       "            ...               ⋱              ...            \n",
       "  27.0000  14.4542   0.0000  ...    0.0000   0.0000   0.0000\n",
       "  36.0000   7.8958   0.0000  ...    0.0000   1.0000   0.0000\n",
       "   0.0000   7.2500   0.0000  ...    0.0000   1.0000   0.0000\n",
       " [torch.DoubleTensor of size 16x179], \n",
       "     0\n",
       "     0\n",
       "     1\n",
       "     1\n",
       "     0\n",
       "     1\n",
       "     0\n",
       "     0\n",
       "     0\n",
       "     0\n",
       "     0\n",
       "     0\n",
       "     0\n",
       "     0\n",
       "     0\n",
       "     0\n",
       " [torch.LongTensor of size 16x1]]"
      ]
     },
     "execution_count": 131,
     "metadata": {},
     "output_type": "execute_result"
    }
   ],
   "source": [
    "next(iter(titanikDataloader))"
   ]
  },
  {
   "cell_type": "markdown",
   "metadata": {},
   "source": [
    "Видно что у нас батч состоит из 16 массивов длинной 179 чисел и 1 числом - лейблом\n",
    "\n",
    "Вдобавок к этому Dataloader сразу же взял и привел все данные к тензорам\n",
    "\n",
    "Теперь мы можем легко брать и итерироваться по батчам\n",
    "\n",
    "\n",
    "Осталось только описать нашу сетку"
   ]
  },
  {
   "cell_type": "code",
   "execution_count": 162,
   "metadata": {
    "collapsed": false
   },
   "outputs": [],
   "source": [
    "import torch\n",
    "from torch import nn as nn\n",
    "from torch.autograd import Variable\n",
    "import torch.nn.functional as F\n",
    "\n",
    "class TitanikModel(nn.Module):\n",
    "    def __init__(self):\n",
    "        super(TitanikModel, self).__init__()\n",
    "        self.fc1 = nn.Sequential(\n",
    "            nn.Linear(179, 200),\n",
    "            nn.LeakyReLU(),\n",
    "            nn.Linear(200, 1),\n",
    "        )\n",
    "\n",
    "    def forward(self, x):\n",
    "        x = self.fc1(x)\n",
    "        return x"
   ]
  },
  {
   "cell_type": "code",
   "execution_count": 163,
   "metadata": {
    "collapsed": false
   },
   "outputs": [],
   "source": [
    "model = TitanikModel()"
   ]
  },
  {
   "cell_type": "code",
   "execution_count": 164,
   "metadata": {
    "collapsed": true
   },
   "outputs": [],
   "source": [
    "criterion = nn.BCEWithLogitsLoss()\n",
    "optimizer = torch.optim.Adam(model.parameters())"
   ]
  },
  {
   "cell_type": "code",
   "execution_count": 170,
   "metadata": {
    "collapsed": false
   },
   "outputs": [],
   "source": [
    "losses = []\n",
    "accuracy = []\n",
    "roc_auc = []\n",
    "\n",
    "for train_batch, label in titanikDataloader:\n",
    "    train_batch = Variable(train_batch).float()\n",
    "    label = Variable(label).float()\n",
    "    output = model(train_batch)\n",
    "    loss = criterion(output, label)    \n",
    "    loss.backward()\n",
    "    optimizer.step()\n",
    "    optimizer.zero_grad()\n",
    "    \n",
    "    losses.append(loss.data[0])\n",
    "    accuracy.append(accuracy_score(label.view(-1).data.numpy(), np.round(F.sigmoid(output.view(-1)).data.numpy())))\n",
    "    roc_auc.append(roc_auc_score(label.view(-1).data.numpy(), F.sigmoid(output.view(-1)).data.numpy()))"
   ]
  },
  {
   "cell_type": "code",
   "execution_count": 171,
   "metadata": {
    "collapsed": false
   },
   "outputs": [
    {
     "data": {
      "image/png": "[encoded data removed]",
      "text/plain": [
       "<matplotlib.figure.Figure at 0x11ebaae10>"
      ]
     },
     "metadata": {},
     "output_type": "display_data"
    }
   ],
   "source": [
    "plt.plot(losses)\n",
    "plt.show()"
   ]
  },
  {
   "cell_type": "code",
   "execution_count": 172,
   "metadata": {
    "collapsed": false
   },
   "outputs": [
    {
     "data": {
      "image/png": "[encoded data removed]",
      "text/plain": [
       "<matplotlib.figure.Figure at 0x1a20ccf048>"
      ]
     },
     "metadata": {},
     "output_type": "display_data"
    }
   ],
   "source": [
    "plt.plot(accuracy)\n",
    "plt.show()"
   ]
  },
  {
   "cell_type": "code",
   "execution_count": 173,
   "metadata": {
    "collapsed": false
   },
   "outputs": [
    {
     "data": {
      "image/png": "[encoded data removed]",
      "text/plain": [
       "<matplotlib.figure.Figure at 0x1a20c75a58>"
      ]
     },
     "metadata": {},
     "output_type": "display_data"
    }
   ],
   "source": [
    "plt.plot(roc_auc)\n",
    "plt.show()"
   ]
  },
  {
   "cell_type": "markdown",
   "metadata": {},
   "source": [
    "## Задачи\n",
    "\n",
    "1. Как вы могли увидеть, мы учим только одну эпоху, это всего 60 батчей. Попробуйте уменьшить batch_size и сделать обучение в 10-15 эпох.\n",
    "2. Скорее всего мы очень быстро переобучимся. Давайте разобьем таблицу с титаником на train и validate, чтобы учиться на train и проверять переобучение и качество на validate.\n",
    "3. Теперь давайте достанем test данные и попытаемся предсказать ответ для них. Допишите предсказания модели в таблицу и отправьте на kaggle чтобы посмотреть качество\n",
    "4. Теперь давайте попробуем использовать на этих данных какие-нибудь другие штуки для предсказания. Попробуйте обучить LightGBM на этих фичах и посмотрите его качество. (если останется время, я расскажу про это)"
   ]
  },
  {
   "cell_type": "code",
   "execution_count": null,
   "metadata": {
    "collapsed": true
   },
   "outputs": [],
   "source": []
  }
 ],
 "metadata": {
  "kernelspec": {
   "display_name": "Python 3",
   "language": "python",
   "name": "python3"
  },
  "language_info": {
   "codemirror_mode": {
    "name": "ipython",
    "version": 3
   },
   "file_extension": ".py",
   "mimetype": "text/x-python",
   "name": "python",
   "nbconvert_exporter": "python",
   "pygments_lexer": "ipython3",
   "version": "3.6.0"
  }
 },
 "nbformat": 4,
 "nbformat_minor": 2
}
