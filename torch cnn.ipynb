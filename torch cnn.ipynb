{
 "cells": [
  {
   "cell_type": "markdown",
   "metadata": {},
   "source": [
    "![](https://ujwlkarn.files.wordpress.com/2016/08/8-gif.gif?w=192&h=192&zoom=2)"
   ]
  },
  {
   "cell_type": "markdown",
   "metadata": {},
   "source": []
  },
  {
   "cell_type": "markdown",
   "metadata": {},
   "source": [
    "### Свертки\n",
    "\n",
    "Допустим у нас есть такая матрица\n",
    "\n",
    "![](https://ujwlkarn.files.wordpress.com/2016/07/screen-shot-2016-07-24-at-11-25-13-pm.png?w=254&h=230)\n",
    "\n",
    "Представим что она обозначает изображение. В обычном изображении значения пикселей не 0/1, но это учебный вариант\n",
    "\n",
    "Назовем вот эту матрицу 3х3 фильтром.\n",
    "\n",
    "![](https://ujwlkarn.files.wordpress.com/2016/07/screen-shot-2016-07-24-at-11-25-24-pm.png?w=148&h=128)\n",
    "\n",
    "После этого, сама процедура свертки будет выглядеть вот так\n",
    "\n",
    "![](https://ujwlkarn.files.wordpress.com/2016/07/convolution_schematic.gif?w=268&h=196&zoom=2)\n",
    "\n",
    "\n",
    "От того какие значения в фильтре, мы можем получить разный результат\n",
    "\n",
    "Например для этой картинки\n",
    "\n",
    "![](https://ujwlkarn.files.wordpress.com/2016/08/111.png?w=134&h=132)\n",
    "\n",
    "Для разных фильтров будут проявляться разные осоебнности \n",
    "\n",
    "![](https://ujwlkarn.files.wordpress.com/2016/08/screen-shot-2016-08-05-at-11-03-00-pm.png)"
   ]
  },
  {
   "cell_type": "markdown",
   "metadata": {},
   "source": [
    "Мы можем использовать несколько разных фильтров и в результате получить такой многомерный вектор\n",
    "\n",
    "![](https://ujwlkarn.files.wordpress.com/2016/08/screen-shot-2016-08-10-at-3-42-35-am.png?w=802&h=402)\n",
    "\n",
    "\n",
    "Здесь также используются функции активации, например ReLU\n",
    "\n",
    "![](https://ujwlkarn.files.wordpress.com/2016/08/screen-shot-2016-08-07-at-6-18-19-pm.png?w=748)"
   ]
  },
  {
   "cell_type": "markdown",
   "metadata": {},
   "source": [
    "#### Важно\n",
    "\n",
    "Часто используется слой MaxPooling\n",
    "![](https://ujwlkarn.files.wordpress.com/2016/08/screen-shot-2016-08-10-at-3-38-39-am.png?w=988)\n",
    "\n",
    "Он позволяет уменьшить размерность получившегося вектора, но оставляет самую важную информацию\n",
    "\n",
    "![](https://ujwlkarn.files.wordpress.com/2016/08/screen-shot-2016-08-07-at-6-19-37-pm.png?w=401&h=219)\n",
    "\n",
    "![](https://ujwlkarn.files.wordpress.com/2016/08/screen-shot-2016-08-07-at-6-11-53-pm.png)"
   ]
  },
  {
   "cell_type": "markdown",
   "metadata": {},
   "source": [
    "Теперь можем представить вот такую сеть\n",
    "\n",
    "![](https://ujwlkarn.files.wordpress.com/2016/08/screen-shot-2016-08-08-at-2-26-09-am.png?w=1496)"
   ]
  },
  {
   "cell_type": "markdown",
   "metadata": {},
   "source": [
    "В конечном итоге получится что-то типа такого\n",
    "\n",
    "![](https://ujwlkarn.files.wordpress.com/2016/08/car.png?w=1212)\n",
    "\n",
    "![](https://ujwlkarn.files.wordpress.com/2016/08/screen-shot-2016-08-10-at-12-58-30-pm.png?w=484&h=510)"
   ]
  },
  {
   "cell_type": "markdown",
   "metadata": {},
   "source": [
    "Ну а мы продолжим работать с MNIST. \n",
    "\n",
    "![](https://ujwlkarn.files.wordpress.com/2016/08/conv_all.png?w=1496)\n",
    "\n",
    "Но не обычным, а модным\n",
    "\n",
    "![](https://github.com/zalandoresearch/fashion-mnist/raw/master/doc/img/fashion-mnist-sprite.png)\n",
    "\n",
    "![](https://github.com/zalandoresearch/fashion-mnist/raw/master/doc/img/embedding.gif)"
   ]
  },
  {
   "cell_type": "code",
   "execution_count": 1,
   "metadata": {
    "collapsed": true
   },
   "outputs": [],
   "source": [
    "from torch.utils.data import DataLoader\n",
    "from torchvision import datasets, transforms\n",
    "import torch\n",
    "\n",
    "import matplotlib.pyplot as plt\n",
    "%matplotlib inline\n",
    "import numpy as np"
   ]
  },
  {
   "cell_type": "code",
   "execution_count": 29,
   "metadata": {
    "collapsed": false
   },
   "outputs": [],
   "source": [
    "train_loader = DataLoader(\n",
    "    datasets.FashionMNIST('./fashion', train=True, download=True,\n",
    "                   transform=transforms.Compose([\n",
    "                       transforms.ToTensor(),\n",
    "#                        transforms.Normalize(0, 1)\n",
    "                   ])),\n",
    "    batch_size=32, shuffle=True)"
   ]
  },
  {
   "cell_type": "code",
   "execution_count": 30,
   "metadata": {
    "collapsed": true
   },
   "outputs": [],
   "source": [
    "test_loader = DataLoader(\n",
    "    datasets.FashionMNIST('./fashion', train=False, transform=transforms.Compose([\n",
    "                       transforms.ToTensor(),\n",
    "#                        transforms.Normalize((0), (1))\n",
    "                   ])),\n",
    "    batch_size=32, shuffle=True)\n"
   ]
  },
  {
   "cell_type": "code",
   "execution_count": 31,
   "metadata": {
    "collapsed": false
   },
   "outputs": [
    {
     "data": {
      "text/plain": [
       "[\n",
       " (0 ,0 ,.,.) = \n",
       "   0.0000  0.0000  0.0000  ...   0.0000  0.0000  0.0000\n",
       "   0.0000  0.0000  0.0000  ...   0.0000  0.0000  0.0000\n",
       "   0.0000  0.0000  0.0000  ...   0.0000  0.0000  0.0000\n",
       "            ...             ⋱             ...          \n",
       "   0.0000  0.0000  0.0000  ...   0.0000  0.0000  0.0000\n",
       "   0.0000  0.0000  0.0000  ...   0.0000  0.0000  0.0000\n",
       "   0.0000  0.0000  0.0000  ...   0.0000  0.0000  0.0000\n",
       "      ⋮ \n",
       " \n",
       " (1 ,0 ,.,.) = \n",
       "   0.0000  0.0000  0.0000  ...   0.0000  0.0000  0.0000\n",
       "   0.0000  0.0000  0.0000  ...   0.0000  0.0000  0.0000\n",
       "   0.0000  0.0000  0.0000  ...   0.0000  0.0000  0.0000\n",
       "            ...             ⋱             ...          \n",
       "   0.0000  0.0000  0.0000  ...   0.0000  0.0000  0.0000\n",
       "   0.0000  0.0000  0.0000  ...   0.0000  0.0000  0.0000\n",
       "   0.0000  0.0000  0.0000  ...   0.0000  0.0000  0.0000\n",
       "      ⋮ \n",
       " \n",
       " (2 ,0 ,.,.) = \n",
       "   0.0000  0.0000  0.0000  ...   0.0000  0.0000  0.0000\n",
       "   0.0000  0.0000  0.0000  ...   0.0000  0.0000  0.0000\n",
       "   0.0000  0.0000  0.0000  ...   0.0000  0.0000  0.0000\n",
       "            ...             ⋱             ...          \n",
       "   0.0000  0.0000  0.0000  ...   0.0000  0.0000  0.0000\n",
       "   0.0000  0.0000  0.0000  ...   0.0000  0.0000  0.0000\n",
       "   0.0000  0.0000  0.0000  ...   0.0000  0.0000  0.0000\n",
       " ...   \n",
       "      ⋮ \n",
       " \n",
       " (29,0 ,.,.) = \n",
       "   0.0000  0.0000  0.0000  ...   0.0000  0.0000  0.0000\n",
       "   0.0000  0.0000  0.0000  ...   0.0000  0.0000  0.0000\n",
       "   0.0000  0.0000  0.0000  ...   0.0000  0.0000  0.0000\n",
       "            ...             ⋱             ...          \n",
       "   0.0000  0.0000  0.0000  ...   0.0000  0.0000  0.0000\n",
       "   0.0000  0.0000  0.0000  ...   0.0000  0.0000  0.0000\n",
       "   0.0000  0.0000  0.0000  ...   0.0000  0.0000  0.0000\n",
       "      ⋮ \n",
       " \n",
       " (30,0 ,.,.) = \n",
       "   0.0000  0.0000  0.0000  ...   0.0000  0.0000  0.0000\n",
       "   0.0000  0.0000  0.0000  ...   0.0000  0.0000  0.0000\n",
       "   0.0000  0.0000  0.0000  ...   0.0000  0.0000  0.0000\n",
       "            ...             ⋱             ...          \n",
       "   0.0000  0.0000  0.0000  ...   0.0000  0.0000  0.0000\n",
       "   0.0000  0.0000  0.0000  ...   0.0000  0.0000  0.0000\n",
       "   0.0000  0.0000  0.0000  ...   0.0000  0.0000  0.0000\n",
       "      ⋮ \n",
       " \n",
       " (31,0 ,.,.) = \n",
       "   0.0000  0.0000  0.0000  ...   0.0000  0.0000  0.0000\n",
       "   0.0000  0.0000  0.0000  ...   0.0000  0.0000  0.0000\n",
       "   0.0000  0.0000  0.0000  ...   0.0039  0.0000  0.0000\n",
       "            ...             ⋱             ...          \n",
       "   0.0000  0.0000  0.0000  ...   0.0000  0.0000  0.0000\n",
       "   0.0000  0.0000  0.0000  ...   0.0000  0.0000  0.0000\n",
       "   0.0000  0.0000  0.0000  ...   0.0000  0.0000  0.0000\n",
       " [torch.FloatTensor of size 32x1x28x28], \n",
       "  0\n",
       "  7\n",
       "  0\n",
       "  7\n",
       "  9\n",
       "  6\n",
       "  1\n",
       "  0\n",
       "  6\n",
       "  2\n",
       "  4\n",
       "  4\n",
       "  2\n",
       "  1\n",
       "  7\n",
       "  2\n",
       "  2\n",
       "  6\n",
       "  6\n",
       "  7\n",
       "  3\n",
       "  5\n",
       "  4\n",
       "  6\n",
       "  9\n",
       "  6\n",
       "  4\n",
       "  3\n",
       "  5\n",
       "  0\n",
       "  2\n",
       "  6\n",
       " [torch.LongTensor of size 32]]"
      ]
     },
     "execution_count": 31,
     "metadata": {},
     "output_type": "execute_result"
    }
   ],
   "source": [
    "example_batch = next(iter(test_loader))\n",
    "example_batch"
   ]
  },
  {
   "cell_type": "code",
   "execution_count": 32,
   "metadata": {
    "collapsed": false
   },
   "outputs": [
    {
     "data": {
      "image/png": "[encoded data removed]",
      "text/plain": [
       "<matplotlib.figure.Figure at 0x1227a9eb8>"
      ]
     },
     "metadata": {},
     "output_type": "display_data"
    }
   ],
   "source": [
    "image_size = 28\n",
    "show_image_n = 16\n",
    "\n",
    "fig = plt.figure(figsize=(12, 1))\n",
    "for i in range(1, show_image_n + 1):\n",
    "    ax = fig.add_subplot(1, show_image_n, i)\n",
    "    \n",
    "    ax.set_title(f'{example_batch[1][i]}')\n",
    "    ax.get_xaxis().set_visible(False)\n",
    "    ax.get_yaxis().set_visible(False)\n",
    "\n",
    "    ax.imshow(example_batch[0][i].view(image_size, image_size), cmap=\"gray\")\n"
   ]
  },
  {
   "cell_type": "code",
   "execution_count": 33,
   "metadata": {
    "collapsed": true
   },
   "outputs": [],
   "source": [
    "import torch.nn.functional as F\n",
    "from torch import nn"
   ]
  },
  {
   "cell_type": "code",
   "execution_count": 34,
   "metadata": {
    "collapsed": true
   },
   "outputs": [],
   "source": [
    "class Net(nn.Module):\n",
    "    def __init__(self):\n",
    "        super(Net, self).__init__()\n",
    "        self.conv1 = nn.Conv2d(1, 6, 3)\n",
    "        self.conv2 = nn.Conv2d(6, 10, 3)\n",
    "        self.fc1 = nn.Linear(250, 100)\n",
    "        self.fc2 = nn.Linear(100, 100)\n",
    "        self.fc3 = nn.Linear(100, 10)\n",
    "\n",
    "    def forward(self, x):\n",
    "        # В отличии от предыдущей сети не будем менять картинку\n",
    "        # Теперь пропустим нашу картинку через сверточный слой\n",
    "        x = self.conv1(x)\n",
    "        # Не забыть активацию\n",
    "        x = F.relu(x)\n",
    "        # Теперь сделаем MaxPooling\n",
    "        x = F.max_pool2d(x, 2)\n",
    "        # Сделаем то же самое со второй сверткой\n",
    "        x = self.conv2(x)\n",
    "        x = F.relu(x)\n",
    "        x = F.max_pool2d(x, 2)\n",
    "        #print(x.shape)\n",
    "        # Свернем все получившееся в один слой\n",
    "        x = x.view(32, -1)\n",
    "        # Пропустим через полносвязные\n",
    "        x = self.fc1(x)\n",
    "        x = F.relu(x)\n",
    "        \n",
    "        # Пропустим через следующий слой\n",
    "        x = self.fc2(x)\n",
    "        # активация\n",
    "        x = F.relu(x)\n",
    "        x = self.fc3(x)\n",
    "        x = F.relu(x)\n",
    "        # Теперь мы получили вектор размера 10. Будем считать что на i месте стоит значение принадлежности i классу;\n",
    "        # Чтобы это было лучше читаемо обычно из этих чисел моделируют вероятность. \n",
    "        # Для этого используют функцию Softmax. Максим напишет ее на доске\n",
    "        x = F.softmax(x)\n",
    "        return x"
   ]
  },
  {
   "cell_type": "code",
   "execution_count": 35,
   "metadata": {
    "collapsed": true
   },
   "outputs": [],
   "source": [
    "net = Net()"
   ]
  },
  {
   "cell_type": "code",
   "execution_count": 36,
   "metadata": {
    "collapsed": false
   },
   "outputs": [
    {
     "name": "stdout",
     "output_type": "stream",
     "text": [
      "Net(\n",
      "  (conv1): Conv2d(1, 6, kernel_size=(3, 3), stride=(1, 1))\n",
      "  (conv2): Conv2d(6, 10, kernel_size=(3, 3), stride=(1, 1))\n",
      "  (fc1): Linear(in_features=250, out_features=100, bias=True)\n",
      "  (fc2): Linear(in_features=100, out_features=100, bias=True)\n",
      "  (fc3): Linear(in_features=100, out_features=10, bias=True)\n",
      ")\n"
     ]
    }
   ],
   "source": [
    "print(net)"
   ]
  },
  {
   "cell_type": "code",
   "execution_count": 37,
   "metadata": {
    "collapsed": true
   },
   "outputs": [],
   "source": [
    "criterion = nn.CrossEntropyLoss()"
   ]
  },
  {
   "cell_type": "code",
   "execution_count": 38,
   "metadata": {
    "collapsed": true
   },
   "outputs": [],
   "source": [
    "from torch import optim"
   ]
  },
  {
   "cell_type": "code",
   "execution_count": 39,
   "metadata": {
    "collapsed": true
   },
   "outputs": [],
   "source": [
    "optimizer = optim.SGD(net.parameters(), lr=0.1, momentum=0.6)"
   ]
  },
  {
   "cell_type": "code",
   "execution_count": 40,
   "metadata": {
    "collapsed": true
   },
   "outputs": [],
   "source": [
    "from tqdm import tqdm_notebook\n",
    "from IPython.display import clear_output"
   ]
  },
  {
   "cell_type": "code",
   "execution_count": 41,
   "metadata": {
    "collapsed": true
   },
   "outputs": [],
   "source": [
    "train_plot = []\n",
    "test_plot = []"
   ]
  },
  {
   "cell_type": "code",
   "execution_count": 42,
   "metadata": {
    "collapsed": true
   },
   "outputs": [],
   "source": [
    "from torch.autograd import Variable"
   ]
  },
  {
   "cell_type": "code",
   "execution_count": null,
   "metadata": {
    "collapsed": false
   },
   "outputs": [
    {
     "name": "stdout",
     "output_type": "stream",
     "text": [
      "Epoch 7\n",
      "Train accuracy: 0.63645\n",
      "Val accuracy: 0.5\n"
     ]
    },
    {
     "data": {
      "image/png": "[encoded data removed]",
      "text/plain": [
       "<matplotlib.figure.Figure at 0x11ca64d30>"
      ]
     },
     "metadata": {},
     "output_type": "display_data"
    }
   ],
   "source": [
    "for epoch in tqdm_notebook(range(10), desc='epoch'):\n",
    "    # здесь мы проходим одну эпоху тренировки\n",
    "    train_log = []\n",
    "    for train_batch in tqdm_notebook(train_loader, desc='training'):\n",
    "        # data - объекты, target - метки\n",
    "        # Оборачиваем в Variable чтобы считать от них градиент\n",
    "        data, target = Variable(train_batch[0]), Variable(train_batch[1])\n",
    "        # обнуляем градиенты\n",
    "        optimizer.zero_grad()\n",
    "        # предсказываем метку для батча\n",
    "        output = net(data)\n",
    "        # считаем функцию потерь\n",
    "        loss = criterion(output, target)\n",
    "        # считаем градиент\n",
    "        loss.backward()\n",
    "        # меняем веса во всех слоях сети\n",
    "        optimizer.step()\n",
    "        # добавим accuracy и будем считать его все время чтобы рисовать график\n",
    "        # Для начала посчитаем какой класс модель предсказала с максимальной уверенностью\n",
    "        # Переводим все в нампай для лучшей наглядности\n",
    "        model_outputs = np.argmax(output.data.numpy(), axis=1)\n",
    "        targets = target.data.numpy().reshape(-1)\n",
    "        train_log.extend(model_outputs == targets)\n",
    "        \n",
    "    train_plot.append(np.mean(train_log))\n",
    "    # здесь мы будем считать ошибку на тестовой выборке, которую модель не видела\n",
    "    test_log = []\n",
    "    for test_batch in tqdm_notebook(test_loader, desc='testing'):\n",
    "        data, target = Variable(train_batch[0]), Variable(train_batch[1])\n",
    "        output = net(data)\n",
    "        \n",
    "        model_outputs = np.argmax(output.data.numpy(), axis=1)\n",
    "        targets = target.data.numpy().reshape(-1)\n",
    "       \n",
    "        test_log.extend(model_outputs == targets)\n",
    "        # здесь мы не трогаем градиенты\n",
    "    test_plot.append(np.mean(test_log))\n",
    "    clear_output()\n",
    "    print(\"Epoch\", epoch)\n",
    "    print(\"Train accuracy:\", train_plot[-1])\n",
    "    print(\"Val accuracy:\", test_plot[-1])\n",
    "    plt.plot(train_plot, label='train accuracy')\n",
    "    plt.plot(test_plot, label='test accuracy')\n",
    "    plt.legend(loc='best')\n",
    "    plt.grid()\n",
    "    plt.show()\n"
   ]
  },
  {
   "cell_type": "markdown",
   "metadata": {},
   "source": [
    "Теперь можно сравнить свои результаты с остальными\n",
    "\n",
    "http://fashion-mnist.s3-website.eu-central-1.amazonaws.com/#"
   ]
  },
  {
   "cell_type": "code",
   "execution_count": null,
   "metadata": {
    "collapsed": true
   },
   "outputs": [],
   "source": []
  },
  {
   "cell_type": "code",
   "execution_count": null,
   "metadata": {
    "collapsed": true
   },
   "outputs": [],
   "source": []
  }
 ],
 "metadata": {
  "kernelspec": {
   "display_name": "Python 3",
   "language": "python",
   "name": "python3"
  },
  "language_info": {
   "codemirror_mode": {
    "name": "ipython",
    "version": 3
   },
   "file_extension": ".py",
   "mimetype": "text/x-python",
   "name": "python",
   "nbconvert_exporter": "python",
   "pygments_lexer": "ipython3",
   "version": "3.6.0"
  },
  "widgets": {
   "state": {
    "17d59e38fa064c768affe7fed52ddac3": {
     "views": [
      {
       "cell_index": 23
      }
     ]
    },
    "1fd149b8959f410aa973bf37310b9613": {
     "views": [
      {
       "cell_index": 23
      }
     ]
    },
    "289cafa77873434c92a25ef3a18ca20a": {
     "views": [
      {
       "cell_index": 23
      }
     ]
    },
    "294240befe654ad7abde5342c2173e01": {
     "views": [
      {
       "cell_index": 23
      }
     ]
    },
    "3185e6f985ae463d8273cd8c506e6e89": {
     "views": [
      {
       "cell_index": 23
      }
     ]
    },
    "35ddfecec18d4d54b5ede1b7d83d5d63": {
     "views": [
      {
       "cell_index": 23
      }
     ]
    },
    "4757aaa5070a4da6aff63875dc9c4192": {
     "views": [
      {
       "cell_index": 23
      }
     ]
    },
    "48f7f2d8796d4649929f3279b52bd385": {
     "views": [
      {
       "cell_index": 23
      }
     ]
    },
    "606d2f8bbdff4bd5b90a42404dde4cd6": {
     "views": [
      {
       "cell_index": 22
      }
     ]
    },
    "64820f94d6434c5f98ce0b0a5cfd4bf1": {
     "views": [
      {
       "cell_index": 23
      }
     ]
    },
    "724af0b45e504707aa239f2a0b434db0": {
     "views": [
      {
       "cell_index": 23
      }
     ]
    },
    "7d5a7e431eb84fd9ac2afd52b8fb5007": {
     "views": [
      {
       "cell_index": 23
      }
     ]
    },
    "8205393c6b894fa7b83c43e560660544": {
     "views": [
      {
       "cell_index": 23
      }
     ]
    },
    "82abb4b9d48f47c2ab3a30492004c812": {
     "views": [
      {
       "cell_index": 23
      }
     ]
    },
    "864475ab189b4b38998bf14afcc0e19b": {
     "views": [
      {
       "cell_index": 23
      }
     ]
    },
    "87e561c2cc384dd7ab365dc4b075b286": {
     "views": [
      {
       "cell_index": 23
      }
     ]
    },
    "893f6e907b7c4298a498dc7154c53b0d": {
     "views": [
      {
       "cell_index": 23
      }
     ]
    },
    "90e7b72dceae463c8eb98f86761cc6d1": {
     "views": [
      {
       "cell_index": 23
      }
     ]
    },
    "951b7447d1154f668dd376e96460607b": {
     "views": [
      {
       "cell_index": 23
      }
     ]
    },
    "9b36db8515544e41841fe00437438561": {
     "views": [
      {
       "cell_index": 23
      }
     ]
    },
    "a0e9408597e441f39ac0883ba4b19c8f": {
     "views": [
      {
       "cell_index": 23
      }
     ]
    },
    "a717ff69410442d8b2d9741548292044": {
     "views": [
      {
       "cell_index": 23
      }
     ]
    },
    "ab75cb2ee9754f0a85e13694081c8fb8": {
     "views": [
      {
       "cell_index": 23
      }
     ]
    },
    "b471bda61f6b4a319c4aa0f743f1e38e": {
     "views": [
      {
       "cell_index": 23
      }
     ]
    },
    "b534f422991e4d3e801f644685028589": {
     "views": [
      {
       "cell_index": 23
      }
     ]
    },
    "b650642fcd8844f5bf0892d0831457b5": {
     "views": [
      {
       "cell_index": 23
      }
     ]
    },
    "b78f28acdca346e9874b56ed8234d86f": {
     "views": [
      {
       "cell_index": 23
      }
     ]
    },
    "b79e34048c1445b1b1e32e31534a9a95": {
     "views": [
      {
       "cell_index": 23
      }
     ]
    },
    "b93de4d981cb4c25ae72d464190f8b17": {
     "views": [
      {
       "cell_index": 23
      }
     ]
    },
    "b986e5e3ac034deb9f135b414f02c8d7": {
     "views": [
      {
       "cell_index": 23
      }
     ]
    },
    "c7e17a26cab34cbdbce404f618ca9a83": {
     "views": [
      {
       "cell_index": 23
      }
     ]
    },
    "c876acb77c6946e2958d7b9f4e34a9c9": {
     "views": [
      {
       "cell_index": 23
      }
     ]
    },
    "cc3974da09dc4ece8d85e023bc1b53ef": {
     "views": [
      {
       "cell_index": 23
      }
     ]
    },
    "d238c247f24c4671a3163530a7271f2e": {
     "views": [
      {
       "cell_index": 23
      }
     ]
    },
    "d8c2538963124e10a70b2a7aa9b55bf8": {
     "views": [
      {
       "cell_index": 23
      }
     ]
    },
    "d9deada9413c42079cd89295c26be306": {
     "views": [
      {
       "cell_index": 23
      }
     ]
    },
    "e1660684d1b7468a8c421489798210e9": {
     "views": [
      {
       "cell_index": 23
      }
     ]
    },
    "e1687e0651394c9693ef402585eb0145": {
     "views": [
      {
       "cell_index": 23
      }
     ]
    },
    "e34007c2b6574200acbc5653bb7eaf3a": {
     "views": [
      {
       "cell_index": 23
      }
     ]
    },
    "e37bc4e682174c7abb6e0626f9e035c4": {
     "views": [
      {
       "cell_index": 23
      }
     ]
    },
    "e48d8e3a17414894be5a97495148a970": {
     "views": [
      {
       "cell_index": 23
      }
     ]
    },
    "f849a18331a64c9dad76a2397787f821": {
     "views": [
      {
       "cell_index": 23
      }
     ]
    }
   },
   "version": "1.2.0"
  }
 },
 "nbformat": 4,
 "nbformat_minor": 2
}
