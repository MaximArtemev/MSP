{
 "cells": [
  {
   "cell_type": "code",
   "execution_count": 1,
   "metadata": {
    "collapsed": true
   },
   "outputs": [],
   "source": [
    "import torch"
   ]
  },
  {
   "cell_type": "markdown",
   "metadata": {},
   "source": [
    "В торче основная конструкция для хранения данных это Тензор. Можно считать что Тензор - просто многомерный вектор"
   ]
  },
  {
   "cell_type": "code",
   "execution_count": 2,
   "metadata": {
    "collapsed": false
   },
   "outputs": [
    {
     "name": "stdout",
     "output_type": "stream",
     "text": [
      "\n",
      " 0.0000e+00  3.6893e+19  1.2170e+23\n",
      "-2.8615e-42  5.7932e-30  1.4013e-45\n",
      " 1.4013e-45  0.0000e+00  0.0000e+00\n",
      " 0.0000e+00  0.0000e+00  0.0000e+00\n",
      " 0.0000e+00  0.0000e+00  0.0000e+00\n",
      "[torch.FloatTensor of size 5x3]\n",
      "\n"
     ]
    }
   ],
   "source": [
    "x = torch.Tensor(5, 3)\n",
    "print(x)"
   ]
  },
  {
   "cell_type": "code",
   "execution_count": 3,
   "metadata": {
    "collapsed": false
   },
   "outputs": [
    {
     "name": "stdout",
     "output_type": "stream",
     "text": [
      "\n",
      " 0.0460  0.9913  0.9844\n",
      " 0.3554  0.4346  0.4759\n",
      " 0.7499  0.1073  0.5642\n",
      " 0.8243  0.8188  0.2357\n",
      " 0.1804  0.2292  0.8135\n",
      "[torch.FloatTensor of size 5x3]\n",
      "\n"
     ]
    }
   ],
   "source": [
    "x = torch.rand(5, 3)\n",
    "print(x)"
   ]
  },
  {
   "cell_type": "code",
   "execution_count": 4,
   "metadata": {
    "collapsed": false
   },
   "outputs": [
    {
     "name": "stdout",
     "output_type": "stream",
     "text": [
      "torch.Size([5, 3])\n"
     ]
    }
   ],
   "source": [
    "print(x.size())"
   ]
  },
  {
   "cell_type": "markdown",
   "metadata": {},
   "source": [
    "Почти все операторы работающие с векторами (np.array) работают и тут"
   ]
  },
  {
   "cell_type": "code",
   "execution_count": 5,
   "metadata": {
    "collapsed": false
   },
   "outputs": [
    {
     "name": "stdout",
     "output_type": "stream",
     "text": [
      "\n",
      " 0.0590  1.7655  1.5728\n",
      " 1.1754  0.7999  1.0758\n",
      " 1.3024  0.5714  0.9647\n",
      " 0.9897  1.3714  0.7772\n",
      " 0.9728  0.3926  1.7297\n",
      "[torch.FloatTensor of size 5x3]\n",
      "\n"
     ]
    }
   ],
   "source": [
    "y = torch.rand(5, 3)\n",
    "print(x + y)"
   ]
  },
  {
   "cell_type": "code",
   "execution_count": 6,
   "metadata": {
    "collapsed": false
   },
   "outputs": [
    {
     "name": "stdout",
     "output_type": "stream",
     "text": [
      "\n",
      " 0.7742\n",
      " 0.3653\n",
      " 0.4641\n",
      " 0.5526\n",
      " 0.1634\n",
      "[torch.FloatTensor of size 5]\n",
      "\n"
     ]
    }
   ],
   "source": [
    "print(y[:, 1])"
   ]
  },
  {
   "cell_type": "markdown",
   "metadata": {},
   "source": [
    "Здесь нет reshape, вместо него view"
   ]
  },
  {
   "cell_type": "code",
   "execution_count": 7,
   "metadata": {
    "collapsed": false
   },
   "outputs": [
    {
     "name": "stdout",
     "output_type": "stream",
     "text": [
      "torch.Size([4, 4]) torch.Size([16]) torch.Size([2, 8])\n"
     ]
    }
   ],
   "source": [
    "x = torch.randn(4, 4)\n",
    "y = x.view(16)\n",
    "z = x.view(-1, 8)  # the size -1 is inferred from other dimensions\n",
    "print(x.size(), y.size(), z.size())"
   ]
  },
  {
   "cell_type": "markdown",
   "metadata": {},
   "source": [
    "Можно переводить тезоры в нампай и обратно"
   ]
  },
  {
   "cell_type": "code",
   "execution_count": 8,
   "metadata": {
    "collapsed": false
   },
   "outputs": [
    {
     "name": "stdout",
     "output_type": "stream",
     "text": [
      "\n",
      " 1\n",
      " 1\n",
      " 1\n",
      " 1\n",
      " 1\n",
      "[torch.FloatTensor of size 5]\n",
      "\n"
     ]
    }
   ],
   "source": [
    "a = torch.ones(5)\n",
    "print(a)"
   ]
  },
  {
   "cell_type": "code",
   "execution_count": 9,
   "metadata": {
    "collapsed": false
   },
   "outputs": [
    {
     "name": "stdout",
     "output_type": "stream",
     "text": [
      "[ 1.  1.  1.  1.  1.]\n"
     ]
    }
   ],
   "source": [
    "b = a.numpy()\n",
    "print(b)"
   ]
  },
  {
   "cell_type": "code",
   "execution_count": 10,
   "metadata": {
    "collapsed": false
   },
   "outputs": [
    {
     "name": "stdout",
     "output_type": "stream",
     "text": [
      "\n",
      " 2\n",
      " 2\n",
      " 2\n",
      " 2\n",
      " 2\n",
      "[torch.FloatTensor of size 5]\n",
      "\n",
      "[ 2.  2.  2.  2.  2.]\n"
     ]
    }
   ],
   "source": [
    "a.add_(1)\n",
    "print(a)\n",
    "print(b)"
   ]
  },
  {
   "cell_type": "code",
   "execution_count": 11,
   "metadata": {
    "collapsed": false
   },
   "outputs": [
    {
     "name": "stdout",
     "output_type": "stream",
     "text": [
      "[ 2.  2.  2.  2.  2.]\n",
      "\n",
      " 2\n",
      " 2\n",
      " 2\n",
      " 2\n",
      " 2\n",
      "[torch.DoubleTensor of size 5]\n",
      "\n"
     ]
    }
   ],
   "source": [
    "import numpy as np\n",
    "a = np.ones(5)\n",
    "b = torch.from_numpy(a)\n",
    "np.add(a, 1, out=a)\n",
    "print(a)\n",
    "print(b)"
   ]
  },
  {
   "cell_type": "markdown",
   "metadata": {},
   "source": [
    "Если есть подключеная видеокарта с кудой, то пайторч может сразу ее подключить"
   ]
  },
  {
   "cell_type": "code",
   "execution_count": 12,
   "metadata": {
    "collapsed": true
   },
   "outputs": [],
   "source": [
    "if torch.cuda.is_available():\n",
    "    x = x.cuda()\n",
    "    y = y.cuda()\n",
    "    x + y"
   ]
  },
  {
   "cell_type": "markdown",
   "metadata": {},
   "source": [
    "Пайторч может в рантайме посчитать производные по переменным типа Variable"
   ]
  },
  {
   "cell_type": "code",
   "execution_count": 13,
   "metadata": {
    "collapsed": true
   },
   "outputs": [],
   "source": [
    "from torch.autograd import Variable"
   ]
  },
  {
   "cell_type": "code",
   "execution_count": 14,
   "metadata": {
    "collapsed": false
   },
   "outputs": [
    {
     "name": "stdout",
     "output_type": "stream",
     "text": [
      "Variable containing:\n",
      " 1  1\n",
      " 1  1\n",
      "[torch.FloatTensor of size 2x2]\n",
      "\n"
     ]
    }
   ],
   "source": [
    "x = Variable(torch.ones(2, 2), requires_grad=True)\n",
    "print(x)"
   ]
  },
  {
   "cell_type": "code",
   "execution_count": 15,
   "metadata": {
    "collapsed": false
   },
   "outputs": [
    {
     "name": "stdout",
     "output_type": "stream",
     "text": [
      "Variable containing:\n",
      " 3  3\n",
      " 3  3\n",
      "[torch.FloatTensor of size 2x2]\n",
      "\n"
     ]
    }
   ],
   "source": [
    "y = x + 2\n",
    "print(y)"
   ]
  },
  {
   "cell_type": "code",
   "execution_count": 16,
   "metadata": {
    "collapsed": false
   },
   "outputs": [
    {
     "name": "stdout",
     "output_type": "stream",
     "text": [
      "Variable containing:\n",
      " 27  27\n",
      " 27  27\n",
      "[torch.FloatTensor of size 2x2]\n",
      " Variable containing:\n",
      " 27\n",
      "[torch.FloatTensor of size 1]\n",
      "\n"
     ]
    }
   ],
   "source": [
    "z = y * y * 3\n",
    "out = z.mean()\n",
    "\n",
    "print(z, out)\n"
   ]
  },
  {
   "cell_type": "code",
   "execution_count": 17,
   "metadata": {
    "collapsed": true
   },
   "outputs": [],
   "source": [
    "out.backward()"
   ]
  },
  {
   "cell_type": "code",
   "execution_count": 18,
   "metadata": {
    "collapsed": false
   },
   "outputs": [
    {
     "name": "stdout",
     "output_type": "stream",
     "text": [
      "Variable containing:\n",
      " 4.5000  4.5000\n",
      " 4.5000  4.5000\n",
      "[torch.FloatTensor of size 2x2]\n",
      "\n"
     ]
    }
   ],
   "source": [
    "print(x.grad)"
   ]
  },
  {
   "cell_type": "markdown",
   "metadata": {},
   "source": [
    "##### Для начала поймем что такое MNIST\n",
    "\n",
    "70000 рукописных изображений цифр от 0 до 9\n",
    "\n",
    "Превосходный датасет для классификации\n",
    "\n",
    "\n",
    "Нам повезло, в пайторче есть встроенная утилита, которая сама сможет подгрузить датасет и разбить на train/test, а также распараллелить выдачу"
   ]
  },
  {
   "cell_type": "code",
   "execution_count": 19,
   "metadata": {
    "collapsed": true
   },
   "outputs": [],
   "source": [
    "from torch.utils.data import DataLoader\n",
    "from torchvision import datasets, transforms"
   ]
  },
  {
   "cell_type": "markdown",
   "metadata": {},
   "source": [
    "Принято учить машины батчами, то есть небольшими наборами данных. В этом примере я поставил batch_size = 32, это значит что в свою модель я буду подавать 32 картинки"
   ]
  },
  {
   "cell_type": "code",
   "execution_count": 20,
   "metadata": {
    "collapsed": false
   },
   "outputs": [],
   "source": [
    "train_loader = DataLoader(\n",
    "    datasets.MNIST('./mnist', train=True, download=True,\n",
    "                   transform=transforms.Compose([\n",
    "                       transforms.ToTensor(),\n",
    "                       transforms.Normalize((0,), (1,))\n",
    "                   ])),\n",
    "    batch_size=32, shuffle=True)"
   ]
  },
  {
   "cell_type": "code",
   "execution_count": 21,
   "metadata": {
    "collapsed": true
   },
   "outputs": [],
   "source": [
    "test_loader = DataLoader(\n",
    "    datasets.MNIST('./mnist', train=False, transform=transforms.Compose([\n",
    "                       transforms.ToTensor(),\n",
    "                       transforms.Normalize((0,), (1,))\n",
    "                   ])),\n",
    "    batch_size=32, shuffle=True)\n"
   ]
  },
  {
   "cell_type": "code",
   "execution_count": 22,
   "metadata": {
    "collapsed": true
   },
   "outputs": [],
   "source": [
    "import matplotlib.pyplot as plt\n",
    "%matplotlib inline"
   ]
  },
  {
   "cell_type": "markdown",
   "metadata": {},
   "source": [
    "Каждая картинка задается тремя размерностями:\n",
    "\n",
    "1. Количество слоев - каналы. Обычно это RGB формат, красные, зеленые и синие. В данном конкретном случае у нас черно-белые фотографии, поэтому канал только один.\n",
    "2. Высота\n",
    "3. Ширина"
   ]
  },
  {
   "cell_type": "code",
   "execution_count": 23,
   "metadata": {
    "collapsed": false
   },
   "outputs": [
    {
     "data": {
      "text/plain": [
       "[\n",
       " (0 ,0 ,.,.) = \n",
       "   0.0000  0.0000  0.0000  ...   0.0000  0.0000  0.0000\n",
       "   0.0000  0.0000  0.0000  ...   0.0000  0.0000  0.0000\n",
       "   0.0000  0.0000  0.0000  ...   0.0000  0.0000  0.0000\n",
       "            ...             ⋱             ...          \n",
       "   0.0000  0.0000  0.0000  ...   0.0000  0.0000  0.0000\n",
       "   0.0000  0.0000  0.0000  ...   0.0000  0.0000  0.0000\n",
       "   0.0000  0.0000  0.0000  ...   0.0000  0.0000  0.0000\n",
       "      ⋮ \n",
       " \n",
       " (1 ,0 ,.,.) = \n",
       "   0.0000  0.0000  0.0000  ...   0.0000  0.0000  0.0000\n",
       "   0.0000  0.0000  0.0000  ...   0.0000  0.0000  0.0000\n",
       "   0.0000  0.0000  0.0000  ...   0.0000  0.0000  0.0000\n",
       "            ...             ⋱             ...          \n",
       "   0.0000  0.0000  0.0000  ...   0.0000  0.0000  0.0000\n",
       "   0.0000  0.0000  0.0000  ...   0.0000  0.0000  0.0000\n",
       "   0.0000  0.0000  0.0000  ...   0.0000  0.0000  0.0000\n",
       "      ⋮ \n",
       " \n",
       " (2 ,0 ,.,.) = \n",
       "   0.0000  0.0000  0.0000  ...   0.0000  0.0000  0.0000\n",
       "   0.0000  0.0000  0.0000  ...   0.0000  0.0000  0.0000\n",
       "   0.0000  0.0000  0.0000  ...   0.0000  0.0000  0.0000\n",
       "            ...             ⋱             ...          \n",
       "   0.0000  0.0000  0.0000  ...   0.0000  0.0000  0.0000\n",
       "   0.0000  0.0000  0.0000  ...   0.0000  0.0000  0.0000\n",
       "   0.0000  0.0000  0.0000  ...   0.0000  0.0000  0.0000\n",
       " ...   \n",
       "      ⋮ \n",
       " \n",
       " (29,0 ,.,.) = \n",
       "   0.0000  0.0000  0.0000  ...   0.0000  0.0000  0.0000\n",
       "   0.0000  0.0000  0.0000  ...   0.0000  0.0000  0.0000\n",
       "   0.0000  0.0000  0.0000  ...   0.0000  0.0000  0.0000\n",
       "            ...             ⋱             ...          \n",
       "   0.0000  0.0000  0.0000  ...   0.0000  0.0000  0.0000\n",
       "   0.0000  0.0000  0.0000  ...   0.0000  0.0000  0.0000\n",
       "   0.0000  0.0000  0.0000  ...   0.0000  0.0000  0.0000\n",
       "      ⋮ \n",
       " \n",
       " (30,0 ,.,.) = \n",
       "   0.0000  0.0000  0.0000  ...   0.0000  0.0000  0.0000\n",
       "   0.0000  0.0000  0.0000  ...   0.0000  0.0000  0.0000\n",
       "   0.0000  0.0000  0.0000  ...   0.0000  0.0000  0.0000\n",
       "            ...             ⋱             ...          \n",
       "   0.0000  0.0000  0.0000  ...   0.0000  0.0000  0.0000\n",
       "   0.0000  0.0000  0.0000  ...   0.0000  0.0000  0.0000\n",
       "   0.0000  0.0000  0.0000  ...   0.0000  0.0000  0.0000\n",
       "      ⋮ \n",
       " \n",
       " (31,0 ,.,.) = \n",
       "   0.0000  0.0000  0.0000  ...   0.0000  0.0000  0.0000\n",
       "   0.0000  0.0000  0.0000  ...   0.0000  0.0000  0.0000\n",
       "   0.0000  0.0000  0.0000  ...   0.0000  0.0000  0.0000\n",
       "            ...             ⋱             ...          \n",
       "   0.0000  0.0000  0.0000  ...   0.0000  0.0000  0.0000\n",
       "   0.0000  0.0000  0.0000  ...   0.0000  0.0000  0.0000\n",
       "   0.0000  0.0000  0.0000  ...   0.0000  0.0000  0.0000\n",
       " [torch.FloatTensor of size 32x1x28x28], \n",
       "  5\n",
       "  3\n",
       "  1\n",
       "  7\n",
       "  9\n",
       "  9\n",
       "  8\n",
       "  3\n",
       "  6\n",
       "  5\n",
       "  4\n",
       "  1\n",
       "  1\n",
       "  1\n",
       "  6\n",
       "  3\n",
       "  4\n",
       "  6\n",
       "  1\n",
       "  0\n",
       "  0\n",
       "  2\n",
       "  7\n",
       "  8\n",
       "  2\n",
       "  2\n",
       "  5\n",
       "  8\n",
       "  6\n",
       "  9\n",
       "  9\n",
       "  0\n",
       " [torch.LongTensor of size 32]]"
      ]
     },
     "execution_count": 23,
     "metadata": {},
     "output_type": "execute_result"
    }
   ],
   "source": [
    "example_batch = next(iter(test_loader))\n",
    "example_batch"
   ]
  },
  {
   "cell_type": "code",
   "execution_count": 24,
   "metadata": {
    "collapsed": false
   },
   "outputs": [
    {
     "data": {
      "image/png": "[encoded data removed]",
      "text/plain": [
       "<matplotlib.figure.Figure at 0x11c921dd8>"
      ]
     },
     "metadata": {},
     "output_type": "display_data"
    }
   ],
   "source": [
    "image_size = 28\n",
    "show_image_n = 16\n",
    "\n",
    "fig = plt.figure(figsize=(12, 1))\n",
    "for i in range(1, show_image_n + 1):\n",
    "    ax = fig.add_subplot(1, show_image_n, i)\n",
    "    \n",
    "    ax.set_title(f'{example_batch[1][i]}')\n",
    "    ax.get_xaxis().set_visible(False)\n",
    "    ax.get_yaxis().set_visible(False)\n",
    "\n",
    "    ax.imshow(example_batch[0][i].view(image_size, image_size), cmap=\"gray\")\n"
   ]
  },
  {
   "cell_type": "markdown",
   "metadata": {},
   "source": [
    "#### Первая сетка"
   ]
  },
  {
   "cell_type": "code",
   "execution_count": 25,
   "metadata": {
    "collapsed": false
   },
   "outputs": [
    {
     "data": {
      "text/plain": [
       "torch.Size([784])"
      ]
     },
     "execution_count": 25,
     "metadata": {},
     "output_type": "execute_result"
    }
   ],
   "source": [
    "example_batch[0][0].view(-1).shape"
   ]
  },
  {
   "cell_type": "code",
   "execution_count": 26,
   "metadata": {
    "collapsed": true
   },
   "outputs": [],
   "source": [
    "import torch.nn.functional as F\n",
    "from torch import nn"
   ]
  },
  {
   "cell_type": "code",
   "execution_count": 27,
   "metadata": {
    "collapsed": false
   },
   "outputs": [],
   "source": [
    "class Net(nn.Module):\n",
    "    def __init__(self):\n",
    "        super(Net, self).__init__()\n",
    "        self.fc1 = nn.Linear(784, 300)\n",
    "        self.fc2 = nn.Linear(300, 10)\n",
    "\n",
    "    def forward(self, x):\n",
    "        # Для начала превратим одно изображение из формата batch-channels-высота-ширина в batch-изображение\n",
    "        x = x.view(32, -1)\n",
    "        # Теперь пропустим нашу вектор-картинку через полносвязный слой\n",
    "        x = self.fc1(x)\n",
    "        # Не забыть активацию\n",
    "        x = F.relu(x)\n",
    "        # Получили вектор-типа-картинку размера 300\n",
    "        # Пропустим через следующий слой\n",
    "        x = self.fc2(x)\n",
    "        # активация\n",
    "        x = F.relu(x)\n",
    "        # Теперь мы получили вектор размера 10. Будем считать что на i месте стоит значение принадлежности i классу;\n",
    "        # Чтобы это было лучше читаемо обычно из этих чисел моделируют вероятность. \n",
    "        # Для этого используют функцию Softmax. Максим напишет ее на доске\n",
    "        x = F.softmax(x)\n",
    "        return x"
   ]
  },
  {
   "cell_type": "code",
   "execution_count": 28,
   "metadata": {
    "collapsed": true
   },
   "outputs": [],
   "source": [
    "net = Net()"
   ]
  },
  {
   "cell_type": "code",
   "execution_count": 29,
   "metadata": {
    "collapsed": false
   },
   "outputs": [
    {
     "name": "stdout",
     "output_type": "stream",
     "text": [
      "Net(\n",
      "  (fc1): Linear(in_features=784, out_features=300, bias=True)\n",
      "  (fc2): Linear(in_features=300, out_features=10, bias=True)\n",
      ")\n"
     ]
    }
   ],
   "source": [
    "print(net)"
   ]
  },
  {
   "cell_type": "code",
   "execution_count": 30,
   "metadata": {
    "collapsed": false
   },
   "outputs": [
    {
     "data": {
      "text/plain": [
       "<generator object Module.parameters at 0x120520fc0>"
      ]
     },
     "execution_count": 30,
     "metadata": {},
     "output_type": "execute_result"
    }
   ],
   "source": [
    "net.parameters()"
   ]
  },
  {
   "cell_type": "code",
   "execution_count": 31,
   "metadata": {
    "collapsed": false
   },
   "outputs": [
    {
     "data": {
      "text/plain": [
       "[Parameter containing:\n",
       "  2.8792e-02 -1.3612e-02 -2.6393e-02  ...   3.3812e-03 -2.3974e-02 -2.2690e-02\n",
       "  2.5442e-02  9.7547e-03  2.2899e-02  ...  -3.1028e-02  1.0752e-02  8.8385e-03\n",
       " -1.4885e-02 -1.1392e-02 -3.1062e-02  ...   7.6688e-03 -2.4116e-02 -1.9402e-02\n",
       "                 ...                   ⋱                   ...                \n",
       " -7.8700e-03 -1.7190e-02 -3.1472e-02  ...   4.8837e-03 -5.1275e-03  2.6451e-02\n",
       "  2.8672e-02 -1.3410e-02  3.5396e-02  ...  -3.1657e-02  1.5791e-02 -2.4585e-02\n",
       " -8.3566e-03  8.1992e-03  2.2810e-03  ...  -1.8209e-02 -9.5589e-04  2.5686e-03\n",
       " [torch.FloatTensor of size 300x784], Parameter containing:\n",
       " 1.00000e-02 *\n",
       "  -3.2233\n",
       "   2.8514\n",
       "  -0.2818\n",
       "  -1.6127\n",
       "  -2.8616\n",
       "  -0.3181\n",
       "  -0.8782\n",
       "  -0.8002\n",
       "   3.1034\n",
       "  -0.5791\n",
       "  -2.2503\n",
       "  -1.6533\n",
       "   2.0772\n",
       "  -0.7260\n",
       "  -3.4735\n",
       "   3.0616\n",
       "   0.5766\n",
       "  -1.2585\n",
       "  -0.9520\n",
       "  -1.4079\n",
       "  -1.9540\n",
       "   0.3086\n",
       "  -3.4430\n",
       "  -0.5938\n",
       "  -2.6579\n",
       "  -1.2490\n",
       "  -1.1375\n",
       "  -2.5134\n",
       "   1.3765\n",
       "  -1.4989\n",
       "  -1.1662\n",
       "   3.1770\n",
       "   1.7401\n",
       "  -2.9734\n",
       "   2.4594\n",
       "   2.0744\n",
       "  -0.0059\n",
       "  -3.0188\n",
       "  -2.7752\n",
       "  -3.1190\n",
       "   1.0859\n",
       "  -3.5711\n",
       "   3.0086\n",
       "   2.0694\n",
       "  -0.2080\n",
       "  -1.3551\n",
       "   3.4138\n",
       "  -2.5453\n",
       "   0.2505\n",
       "  -3.2458\n",
       "   1.6275\n",
       "  -2.0912\n",
       "  -0.1971\n",
       "  -1.9491\n",
       "  -1.3477\n",
       "  -1.2445\n",
       "   1.8914\n",
       "   3.2310\n",
       "  -3.4843\n",
       "   0.2430\n",
       "  -2.0036\n",
       "  -0.6185\n",
       "  -0.6480\n",
       "   2.0024\n",
       "  -2.8052\n",
       "   0.9955\n",
       "   3.2541\n",
       "  -1.3811\n",
       "   1.0540\n",
       "   0.1918\n",
       "   2.7937\n",
       "  -2.9871\n",
       "   3.1109\n",
       "   0.0019\n",
       "   1.9641\n",
       "  -0.7980\n",
       "   3.2732\n",
       "   1.5514\n",
       "  -1.9150\n",
       "  -3.3859\n",
       "   0.6609\n",
       "  -2.0362\n",
       "  -0.0135\n",
       "   1.3013\n",
       "   1.4604\n",
       "   3.2904\n",
       "  -3.1536\n",
       "  -2.7321\n",
       "   2.8362\n",
       "  -0.6966\n",
       "   0.7661\n",
       "  -3.0996\n",
       "  -1.8748\n",
       "   2.4015\n",
       "   2.1024\n",
       "  -0.5792\n",
       "   2.0258\n",
       "   0.8846\n",
       "   0.5582\n",
       "   3.2050\n",
       "   0.8513\n",
       "   0.4551\n",
       "   1.8775\n",
       "   1.8973\n",
       "  -2.8202\n",
       "   2.9294\n",
       "  -2.9659\n",
       "  -1.1171\n",
       "   0.3042\n",
       "   2.3396\n",
       "   3.4947\n",
       "   0.9055\n",
       "  -3.2947\n",
       "   1.3592\n",
       "   1.9039\n",
       "  -0.8594\n",
       "  -2.8002\n",
       "  -3.0828\n",
       "  -0.9966\n",
       "   0.8371\n",
       "   2.7060\n",
       "   3.0078\n",
       "  -2.8983\n",
       "  -1.5029\n",
       "   1.3233\n",
       "   1.7742\n",
       "   3.1914\n",
       "   2.0192\n",
       "   2.4525\n",
       "  -0.2646\n",
       "  -1.8834\n",
       "  -3.0924\n",
       "  -2.9328\n",
       "  -0.8891\n",
       "   2.3210\n",
       "  -0.6041\n",
       "  -1.6070\n",
       "   2.3852\n",
       "  -0.9959\n",
       "  -0.9151\n",
       "   0.0337\n",
       "   2.3385\n",
       "  -1.9099\n",
       "   0.5498\n",
       "   2.1721\n",
       "   3.4077\n",
       "   1.0647\n",
       "   3.5338\n",
       "  -0.4757\n",
       "   2.6545\n",
       "   0.5646\n",
       "   0.5376\n",
       "   1.4843\n",
       "  -2.0446\n",
       "  -1.5590\n",
       "  -0.1403\n",
       "  -2.3841\n",
       "  -2.5460\n",
       "  -2.6038\n",
       "   2.1431\n",
       "   1.3057\n",
       "   2.3441\n",
       "   0.3536\n",
       "  -0.1393\n",
       "  -1.1029\n",
       "  -0.1495\n",
       "  -3.0569\n",
       "   2.2944\n",
       "   0.3468\n",
       "   3.5551\n",
       "   1.0963\n",
       "   2.4850\n",
       "   2.5070\n",
       "  -3.1406\n",
       "  -0.0417\n",
       "  -2.4354\n",
       "   1.5013\n",
       "  -1.4890\n",
       "  -1.0009\n",
       "  -2.8660\n",
       "  -3.1935\n",
       "  -0.2949\n",
       "  -3.0144\n",
       "   1.5073\n",
       "  -1.1991\n",
       "   2.3565\n",
       "   2.2946\n",
       "   1.8958\n",
       "   3.0180\n",
       "   0.0861\n",
       "  -0.2343\n",
       "   3.2544\n",
       "  -2.0094\n",
       "   0.2554\n",
       "   0.2302\n",
       "  -1.0553\n",
       "   2.6704\n",
       "  -0.7450\n",
       "  -1.8172\n",
       "  -2.6740\n",
       "  -2.7985\n",
       "  -0.4389\n",
       "  -1.5042\n",
       "  -1.9814\n",
       "   2.3598\n",
       "  -0.5775\n",
       "   2.3228\n",
       "  -0.0101\n",
       "  -1.5214\n",
       "   0.2265\n",
       "   2.1044\n",
       "  -0.2796\n",
       "   1.7762\n",
       "   2.6427\n",
       "   0.6080\n",
       "   2.3787\n",
       "   1.3029\n",
       "   2.8942\n",
       "   0.7010\n",
       "  -1.7576\n",
       "   2.4238\n",
       "   0.5595\n",
       "   1.8340\n",
       "  -2.0684\n",
       "   2.3383\n",
       "  -1.8022\n",
       "  -0.1081\n",
       "   0.4955\n",
       "   0.2771\n",
       "  -0.4357\n",
       "   1.3814\n",
       "   0.8797\n",
       "   0.4189\n",
       "   1.6247\n",
       "  -1.0672\n",
       "  -1.1628\n",
       "   1.5534\n",
       "  -2.9892\n",
       "  -1.8261\n",
       "   0.1444\n",
       "  -2.1806\n",
       "   2.0973\n",
       "   3.1034\n",
       "   0.7640\n",
       "  -2.3119\n",
       "  -2.6276\n",
       "  -1.8032\n",
       "  -0.2512\n",
       "  -3.0044\n",
       "  -0.2032\n",
       "   1.3089\n",
       "  -3.2610\n",
       "   0.9534\n",
       "   0.4413\n",
       "  -2.1798\n",
       "  -1.0806\n",
       "  -2.4939\n",
       "  -3.2650\n",
       "  -0.8407\n",
       "   1.5029\n",
       "   0.3542\n",
       "  -1.0260\n",
       "   2.3383\n",
       "   0.0884\n",
       "   3.2892\n",
       "  -1.0289\n",
       "   1.8982\n",
       "  -2.7446\n",
       "   0.7035\n",
       "  -2.3849\n",
       "  -0.5395\n",
       "  -2.3874\n",
       "  -1.6306\n",
       "   2.4474\n",
       "   0.6632\n",
       "  -1.9039\n",
       "  -1.6919\n",
       "   2.5664\n",
       "  -2.1906\n",
       "  -2.7526\n",
       "   2.9956\n",
       "  -0.1388\n",
       "   0.9753\n",
       "  -0.4183\n",
       "  -1.7414\n",
       "  -1.9872\n",
       "   1.8308\n",
       "   1.7860\n",
       "  -1.3370\n",
       "  -3.1227\n",
       "  -0.8739\n",
       "   2.3438\n",
       "   2.1941\n",
       "  -3.4199\n",
       "  -1.8921\n",
       "   2.1845\n",
       "  -2.6050\n",
       "   1.8272\n",
       "  -1.1683\n",
       "  -3.1144\n",
       " [torch.FloatTensor of size 300], Parameter containing:\n",
       " 1.00000e-02 *\n",
       "  0.8033  1.9156 -2.1783  ...  -2.2207 -0.4722  0.8319\n",
       " -4.0904  2.0166  4.8155  ...  -1.4930 -0.8763 -1.1319\n",
       "  3.9239 -1.5486 -5.1668  ...  -1.8021  4.3080  0.2836\n",
       "           ...             ⋱             ...          \n",
       "  2.7991 -0.8406 -4.1417  ...   2.7554  4.5444  4.0617\n",
       "  4.0881 -1.3319 -2.8481  ...  -4.4457 -0.0739 -4.0151\n",
       "  1.7973 -5.0346 -1.8026  ...  -4.5144 -0.4749  2.6885\n",
       " [torch.FloatTensor of size 10x300], Parameter containing:\n",
       " 1.00000e-02 *\n",
       "  -5.5673\n",
       "   3.0522\n",
       "   3.0132\n",
       "   0.3430\n",
       "   4.3089\n",
       "   3.8905\n",
       "  -0.1823\n",
       "  -2.6612\n",
       "   0.3226\n",
       "   2.1937\n",
       " [torch.FloatTensor of size 10]]"
      ]
     },
     "execution_count": 31,
     "metadata": {},
     "output_type": "execute_result"
    }
   ],
   "source": [
    "[i for i in net.parameters()]"
   ]
  },
  {
   "cell_type": "markdown",
   "metadata": {},
   "source": [
    "#### Функция потерь\n",
    "\n",
    "Сейчас нам нужно выбрать функцию которую мы будем минимизировать. По ней будут считаться градиенты и все такое. Задачей нашей сети будет минимизация этой функции\n",
    "\n",
    "Для многоклассовой классификации обычно используют кросс энтропию"
   ]
  },
  {
   "cell_type": "code",
   "execution_count": 32,
   "metadata": {
    "collapsed": true
   },
   "outputs": [],
   "source": [
    "criterion = nn.CrossEntropyLoss()"
   ]
  },
  {
   "cell_type": "markdown",
   "metadata": {},
   "source": [
    "### Оптимизатор\n",
    "\n",
    "Максим у доски сейчас расскажет про методы оптимизации\n",
    "\n",
    "Базово - это штука которая знает как обновлять веса у модели чтобы уменьшить функцию потерь"
   ]
  },
  {
   "cell_type": "code",
   "execution_count": 33,
   "metadata": {
    "collapsed": true
   },
   "outputs": [],
   "source": [
    "from torch import optim"
   ]
  },
  {
   "cell_type": "code",
   "execution_count": 34,
   "metadata": {
    "collapsed": false
   },
   "outputs": [],
   "source": [
    "optimizer = optim.SGD(net.parameters(), lr=0.1, momentum=0.5)"
   ]
  },
  {
   "cell_type": "markdown",
   "metadata": {},
   "source": [
    "tqdm - это простой и красивый визуализатор циклов"
   ]
  },
  {
   "cell_type": "code",
   "execution_count": 35,
   "metadata": {
    "collapsed": true
   },
   "outputs": [],
   "source": [
    "from tqdm import tqdm_notebook\n",
    "from IPython.display import clear_output"
   ]
  },
  {
   "cell_type": "code",
   "execution_count": 36,
   "metadata": {
    "collapsed": true
   },
   "outputs": [],
   "source": [
    "train_plot = []\n",
    "test_plot = []"
   ]
  },
  {
   "cell_type": "code",
   "execution_count": 38,
   "metadata": {
    "collapsed": false
   },
   "outputs": [
    {
     "name": "stdout",
     "output_type": "stream",
     "text": [
      "Epoch 9\n",
      "Train accuracy: 0.984266666667\n",
      "Test accuracy: 1.0\n"
     ]
    },
    {
     "data": {
      "image/png": "[encoded data removed]",
      "text/plain": [
       "<matplotlib.figure.Figure at 0x122611d68>"
      ]
     },
     "metadata": {},
     "output_type": "display_data"
    },
    {
     "name": "stdout",
     "output_type": "stream",
     "text": [
      "\n"
     ]
    }
   ],
   "source": [
    "for epoch in tqdm_notebook(range(10), desc='epoch'):\n",
    "    # здесь мы проходим одну эпоху тренировки\n",
    "    train_log = []\n",
    "    for train_batch in tqdm_notebook(train_loader, desc='training'):\n",
    "        # data - объекты, target - метки\n",
    "        # Оборачиваем в Variable чтобы считать от них градиент\n",
    "        data, target = Variable(train_batch[0]), Variable(train_batch[1])\n",
    "        # обнуляем градиенты\n",
    "        optimizer.zero_grad()\n",
    "        # предсказываем метку для батча\n",
    "        output = net(data)\n",
    "        # считаем функцию потерь\n",
    "        loss = criterion(output, target)\n",
    "        # считаем градиент\n",
    "        loss.backward()\n",
    "        # меняем веса во всех слоях сети\n",
    "        optimizer.step()\n",
    "        # добавим accuracy и будем считать его все время чтобы рисовать график\n",
    "        # Для начала посчитаем какой класс модель предсказала с максимальной уверенностью\n",
    "        # Переводим все в нампай для лучшей наглядности\n",
    "        model_outputs = np.argmax(output.data.numpy(), axis=1)\n",
    "        targets = target.data.numpy().reshape(-1)\n",
    "        train_log.extend(model_outputs == targets)\n",
    "        \n",
    "    train_plot.append(np.mean(train_log))\n",
    "    # здесь мы будем считать ошибку на тестовой выборке, которую модель не видела\n",
    "    test_log = []\n",
    "    for test_batch in tqdm_notebook(test_loader, desc='testing'):\n",
    "        data, target = Variable(train_batch[0]), Variable(train_batch[1])\n",
    "        output = net(data)\n",
    "        \n",
    "        model_outputs = np.argmax(output.data.numpy(), axis=1)\n",
    "        targets = target.data.numpy().reshape(-1)\n",
    "       \n",
    "        test_log.extend(model_outputs == targets)\n",
    "        # здесь мы не трогаем градиенты\n",
    "    test_plot.append(np.mean(test_log))\n",
    "    clear_output()\n",
    "    print(\"Epoch\", epoch)\n",
    "    print(\"Train accuracy:\", train_plot[-1])\n",
    "    print(\"Test accuracy:\", test_plot[-1])\n",
    "    plt.plot(train_plot, label='train accuracy')\n",
    "    plt.plot(test_plot, label='test accuracy')\n",
    "    plt.legend(loc='best')\n",
    "    plt.grid()\n",
    "    plt.show()\n"
   ]
  },
  {
   "cell_type": "code",
   "execution_count": null,
   "metadata": {
    "collapsed": true
   },
   "outputs": [],
   "source": []
  }
 ],
 "metadata": {
  "kernelspec": {
   "display_name": "Python 3",
   "language": "python",
   "name": "python3"
  },
  "language_info": {
   "codemirror_mode": {
    "name": "ipython",
    "version": 3
   },
   "file_extension": ".py",
   "mimetype": "text/x-python",
   "name": "python",
   "nbconvert_exporter": "python",
   "pygments_lexer": "ipython3",
   "version": "3.6.0"
  },
  "widgets": {
   "state": {
    "030d5f6269014bc3bfdc074989bb3926": {
     "views": [
      {
       "cell_index": 49
      }
     ]
    },
    "102ad01e150e49619babdc2957e0e37f": {
     "views": [
      {
       "cell_index": 49
      }
     ]
    },
    "11232b48d7054ee5a5f04ed81f49b93d": {
     "views": [
      {
       "cell_index": 49
      }
     ]
    },
    "125e4eb9a60b47238a4f71cc4a017028": {
     "views": [
      {
       "cell_index": 49
      }
     ]
    },
    "178944db721f48e8a8d1e778e76bf9d3": {
     "views": [
      {
       "cell_index": 49
      }
     ]
    },
    "1f11f51a2c954154b504506c4d5600b8": {
     "views": [
      {
       "cell_index": 49
      }
     ]
    },
    "250a7bf340984e02b26b165b301a58e9": {
     "views": [
      {
       "cell_index": 49
      }
     ]
    },
    "25a097d62273485e826f7e14bdb484e7": {
     "views": [
      {
       "cell_index": 49
      }
     ]
    },
    "2e0d39aa1aa74f25a4e3320cd31723b4": {
     "views": [
      {
       "cell_index": 49
      }
     ]
    },
    "2ed632f14eef49999586bf19850e499c": {
     "views": [
      {
       "cell_index": 49
      }
     ]
    },
    "2f34772e0d2e454a9b27c2181a58cbeb": {
     "views": [
      {
       "cell_index": 49
      }
     ]
    },
    "3035ef9d71714cf897e1093a5f1f9cba": {
     "views": [
      {
       "cell_index": 49
      }
     ]
    },
    "3474753738a14c92a7d187a5bcf23fa6": {
     "views": [
      {
       "cell_index": 49
      }
     ]
    },
    "35ee3cbdbb0848c180735b56a426ca52": {
     "views": [
      {
       "cell_index": 49
      }
     ]
    },
    "3990931d52bf44c09ac61d6fd60f1bd4": {
     "views": [
      {
       "cell_index": 49
      }
     ]
    },
    "3e9ff7fd35e14727bae42557c4e8f265": {
     "views": [
      {
       "cell_index": 49
      }
     ]
    },
    "3f62d4ff0aad4fdd9cd6c86c73d42d9e": {
     "views": [
      {
       "cell_index": 49
      }
     ]
    },
    "42a6a73f053e4f62add031147372ace4": {
     "views": [
      {
       "cell_index": 49
      }
     ]
    },
    "4b0c30aad1d941ffbbde22851210deaf": {
     "views": [
      {
       "cell_index": 49
      }
     ]
    },
    "4d2ccd5945c547fa8fbe722eecde8a2d": {
     "views": [
      {
       "cell_index": 49
      }
     ]
    },
    "5184fd70169645c9b59845a2c5c3dff6": {
     "views": [
      {
       "cell_index": 49
      }
     ]
    },
    "57aee52de08f4a1194cde019d9f3901b": {
     "views": [
      {
       "cell_index": 49
      }
     ]
    },
    "57d72722288d4696a8a79e7bc7c1fe02": {
     "views": [
      {
       "cell_index": 49
      }
     ]
    },
    "5c2cf64a7fae4a509f25063485f94c61": {
     "views": [
      {
       "cell_index": 49
      }
     ]
    },
    "5e8c8769b5cf45b8952abb5bba643bcb": {
     "views": [
      {
       "cell_index": 49
      }
     ]
    },
    "63997e50e2d547b9a60aef11d9ed95cc": {
     "views": [
      {
       "cell_index": 49
      }
     ]
    },
    "646e1b6e1bbf4f57aa9076059e089576": {
     "views": [
      {
       "cell_index": 49
      }
     ]
    },
    "6c0538e7156e4e80b9c0dd5d6dd00578": {
     "views": [
      {
       "cell_index": 49
      }
     ]
    },
    "7388030f1bba485388ae851ce205cc16": {
     "views": [
      {
       "cell_index": 49
      }
     ]
    },
    "801e511a146c40c5930205af65fc83ce": {
     "views": [
      {
       "cell_index": 49
      }
     ]
    },
    "885a753ca65f483eaecb230a7c00d2dd": {
     "views": [
      {
       "cell_index": 49
      }
     ]
    },
    "8e43014649934c05a5362d80442b12cb": {
     "views": [
      {
       "cell_index": 49
      }
     ]
    },
    "9e12c30d2e2e419d84bc738d54607bbd": {
     "views": [
      {
       "cell_index": 49
      }
     ]
    },
    "a447f87b184a441d9f8b759314cbfdf3": {
     "views": [
      {
       "cell_index": 49
      }
     ]
    },
    "a63ead53ca504a05806575a6eefe8c83": {
     "views": [
      {
       "cell_index": 49
      }
     ]
    },
    "a7c58992c213450ba5aed129db4e6f69": {
     "views": [
      {
       "cell_index": 49
      }
     ]
    },
    "af156fa151314e1b8b332b1c1c3cd33a": {
     "views": [
      {
       "cell_index": 49
      }
     ]
    },
    "afc9b75e162441a0ac96e2642724c62f": {
     "views": [
      {
       "cell_index": 49
      }
     ]
    },
    "b2a8bce32f684bd387a652b22a28046e": {
     "views": [
      {
       "cell_index": 49
      }
     ]
    },
    "bb22f328aeae408b94b18a12907a7300": {
     "views": [
      {
       "cell_index": 49
      }
     ]
    },
    "c377d6bc82004b1bbe331d7e94572e0f": {
     "views": [
      {
       "cell_index": 49
      }
     ]
    },
    "c42c311ec4ea4aaebf7acfe3a6a62e07": {
     "views": [
      {
       "cell_index": 49
      }
     ]
    },
    "c444200940914e49803b27d33b806226": {
     "views": [
      {
       "cell_index": 49
      }
     ]
    },
    "cef065946451420eab6394b081582579": {
     "views": [
      {
       "cell_index": 49
      }
     ]
    },
    "cf3de7bb745145cd9f81ff47437852eb": {
     "views": [
      {
       "cell_index": 49
      }
     ]
    },
    "d06b604ce7dd48eba9a6ea9f7441fe74": {
     "views": [
      {
       "cell_index": 49
      }
     ]
    },
    "d37e38595f29464a80e1835fb7d9d49a": {
     "views": [
      {
       "cell_index": 49
      }
     ]
    },
    "d972a91cebc04390839780e4a7b84142": {
     "views": [
      {
       "cell_index": 49
      }
     ]
    },
    "df83a45f33b74525a7e476145e0fd5f0": {
     "views": [
      {
       "cell_index": 49
      }
     ]
    },
    "e07a1c79b04e41bfb7a375f76b2fce43": {
     "views": [
      {
       "cell_index": 49
      }
     ]
    },
    "e197a65a379d4ec4b3c0f0ab8cd411db": {
     "views": [
      {
       "cell_index": 49
      }
     ]
    },
    "e528e338a27c4aad8f70d8f2bb004ebe": {
     "views": [
      {
       "cell_index": 49
      }
     ]
    },
    "e7258c81cc3c4565830f8142739c9033": {
     "views": [
      {
       "cell_index": 49
      }
     ]
    },
    "ec62a48875de428eb961e1127ee84995": {
     "views": [
      {
       "cell_index": 49
      }
     ]
    },
    "ef772e7b78af4074a1ab67691355b77a": {
     "views": [
      {
       "cell_index": 49
      }
     ]
    },
    "f05251014875417db7d68d7289f95d0d": {
     "views": [
      {
       "cell_index": 49
      }
     ]
    },
    "fb4997e1230648ba8fea6a9b01fec5d7": {
     "views": [
      {
       "cell_index": 49
      }
     ]
    }
   },
   "version": "1.2.0"
  }
 },
 "nbformat": 4,
 "nbformat_minor": 2
}
