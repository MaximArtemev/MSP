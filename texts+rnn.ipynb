{
 "cells": [
  {
   "cell_type": "code",
   "execution_count": 6,
   "metadata": {
    "collapsed": true
   },
   "outputs": [],
   "source": [
    "import json\n",
    "\n",
    "import bz2\n",
    "import re\n",
    "from tqdm import tqdm\n",
    "import numpy as np\n",
    "import matplotlib.pyplot as plt\n",
    "% matplotlib inline"
   ]
  },
  {
   "cell_type": "markdown",
   "metadata": {},
   "source": [
    "Сегодня мы будем заниматься классифицированием текстов.\n",
    "\n",
    "Будем различать положительные и отрицательные отзывы на банки.\n",
    "\n",
    "Для начала давайте заберем все тексты из [этой](http://math-info.hse.ru/f/2016-17/nes-ml/banki_responses.json.bz2) ссылки"
   ]
  },
  {
   "cell_type": "code",
   "execution_count": 7,
   "metadata": {
    "collapsed": false
   },
   "outputs": [
    {
     "name": "stderr",
     "output_type": "stream",
     "text": [
      "201030it [03:04, 1092.11it/s]\n"
     ]
    }
   ],
   "source": [
    "responses = []\n",
    "with bz2.BZ2File('./data/banki_responses.json.bz2', 'r') as thefile:\n",
    "    for row in tqdm(thefile):\n",
    "        resp = json.loads(row)\n",
    "        if not resp['rating_not_checked']:\n",
    "            responses.append(resp)"
   ]
  },
  {
   "cell_type": "code",
   "execution_count": 41,
   "metadata": {
    "collapsed": false
   },
   "outputs": [
    {
     "data": {
      "text/plain": [
       "{'author': 'agelun',\n",
       " 'bank_license': 'лицензия № 1481',\n",
       " 'bank_name': 'Сбербанк России',\n",
       " 'city': 'г. Москва',\n",
       " 'datetime': '2015-06-05 15:00:54',\n",
       " 'num_comments': 2,\n",
       " 'rating_grade': 1,\n",
       " 'rating_not_checked': False,\n",
       " 'text': 'Открыт вклад и счет в USD. Плюс к этому есть зарплатная карта, в рублях, само собой. Сегодня пришел в указанное отделение с целью пополнить долларовый счёт на 700 USD.\\xa0Дал операционисту паспорт, зарплатную карту (т.к. на окошке написано \"приготовьте карту для подтверждения операции\" или что-то подобное и в прошлый раз у меня ее потребовали) и сказал, что нужно положить деньги на ДОЛЛАРОВЫЙ счет.\\xa0Операционист всё взяла, что-то делала-крутила-вертела, вставила карту в терминал, сказала \"введите пин\", я ввёл пин, получил в ответ чек, где было написано, что доллары были внесены.... на счёт КАРТЫ! в РУБЛЯХ! Вопрос банку №1, риторический:  Я не понимаю, кем нужно быть, чтобы сознательно проводить такие операции??? за углом, меньше чем через квартал, курс приёма валюты выше почти на рубль! Если я действительно хотел совершить такую \"хитрую\" операцию, мне было выгоднее сделать 100 шагов и \"заработать\" на этом около 700 рублей, после чего просто внести рубли на счёт карты в банкомате! Далее...\\xa0 После долгих, около двух часов, выяснений отношений с операционистом и\\xa0(видимо)\\xa0ее начальником, их попыток отменить первую транзакцию и т.д. и т.п., мы \"сошлись\" на том, что мне компенсируют курсовую разницу между зачислением долларов на рублёвую карту (54,6 руб/доллар, со СЛОВ операциониста) и курсом покупки валюты (58,7 руб/доллар), я куплю за наличные те же 700 долларов и положу их на долларовый счёт. Также я попросил указать на чеке курс, по которому прошла первая транзакция (доллары на рублёвый счёт, 54,6) и поставить печать.\\xa0 Доллары поступили на счёт через 3 часа и по курсу (тадааам!) 54,38. Комиссия банка? или что это было?. Опять же, операционист не знает о комиссиях или курсах проведения операции? Вывод 1:  В итоге я потерял 2 часа времени, нервы и (фиг уж с ними) 154 рубля. Вывод 2:  другим клиентам: требуйте распечатки тех операций, которые собирается провести операционист ДО их проведения. Если бы не было \"высокотехнологичного\" подтверждения операции PIN\\'ом, а была обычная платёжка, всего этого можно было бы избежать. Вопрос банку №2, риторический:  \\xa0Сбер, когда вы будете брать на работу компетентных сотрудников? Которые способны думать или, хотя бы, слушать, что их просят сделать?',\n",
       " 'title': 'Некомпетентность сотрудников банка'}"
      ]
     },
     "execution_count": 41,
     "metadata": {},
     "output_type": "execute_result"
    }
   ],
   "source": [
    "responses[1]"
   ]
  },
  {
   "cell_type": "code",
   "execution_count": 42,
   "metadata": {
    "collapsed": true
   },
   "outputs": [],
   "source": [
    "import pymorphy2"
   ]
  },
  {
   "cell_type": "code",
   "execution_count": 43,
   "metadata": {
    "collapsed": true
   },
   "outputs": [],
   "source": [
    "morph = pymorphy2.MorphAnalyzer()"
   ]
  },
  {
   "cell_type": "code",
   "execution_count": 54,
   "metadata": {
    "collapsed": false
   },
   "outputs": [],
   "source": [
    "norm_text = []\n",
    "for word in responses[2]['text'].split(' '):\n",
    "    norm_text.append(morph.normal_forms(word)[0])"
   ]
  },
  {
   "cell_type": "code",
   "execution_count": 55,
   "metadata": {
    "collapsed": false
   },
   "outputs": [
    {
     "data": {
      "text/plain": [
       "'добрый времени! вчера я поступить смс-уведомление, о том, что банк делать я эксклюзивный предложение по кредиту. являться клиент банка в настоящее время, но в связь с проявить инициатива банка, решить воспользоваться предложением. приехать сегодня днём в отделение, заполнить анкету, сразу пояснить - \"без страховки\", сотрудник (имя не помню) начало сразу приводить я довод о отказ в кредитование без страховка (ну мы то понимать что это они зарплата), я молча она выслушал, в конец ещё раз пояснить - \"без страховки\", поставить соответствующий пункт в заявление на кредит. сотрудник принять заявление и сказала: \"мы вы позвонить и уведомить о решение банка\", я уехал... вечером (18:00) сотрудник я действительно перезвонила, сообщить что заявка одобрена, я сказал, что постараться успеть... успеть - приехать 19:45, подхожу, сотрудник говорит: \"присаживайтесь\", я присел, быть чувство скрытый тревоги, и не зря, я ещё раз уточнить \"без страховки\", и тут сотрудник я уведомляет: \"во одобрить кредит с минимальный пакет страхования\"!? я она ещё раз поясняю: \"я написать в заявление без страховки, банк одобрить кредит, в чем проблема?\" сотрудник замялся, и куда-то убежал, приходить с коллега (как я понять старший/начальник/ить ещё кто), и у нея в рука буклет страхования!? я ещё раз имя объясняю: \"заявление рассмотреть и одобрить банк без страхования\", на что получать ответ старший сотрудника: \"к сожалению, мы не мочь вы выдать (уже одобрить банком) кредит без страхования, время 18:55, я попрощаться и вышел. резюмирую: обман клиентов, навязывание страховки. вопрос к представитель банка - уважаемый представитель, на какой основание ваш сотрудник обманывать клиентов, и самопроизвольно отказываться выдавать уже одобрить банк кредит??? что это за произвол?, как вы это допускаете?, почему я не мочь получить одобрить кредит без страховки, не купить страховку?, как это вообще понимать? понять одно, из-за такой случаев, складываться негативный отношение к банку, а не к сотруднику, сотрудник можно заменить, а вот репутация исправить - дело не легкое. оценка изменить по мера решение вопроса, оставить также обращение в колл-центр.'"
      ]
     },
     "execution_count": 55,
     "metadata": {},
     "output_type": "execute_result"
    }
   ],
   "source": [
    "' '.join(norm_text)"
   ]
  },
  {
   "cell_type": "markdown",
   "metadata": {},
   "source": [
    "Заметим что текст \"грязный\", то есть в нем есть разные ненужные символы, бесполезные цифры.\n",
    "\n",
    "Еще видно что не у всех текстов есть оценки. Нам, чтобы научить классификатор нужны только те, где оценки уже проставлены"
   ]
  },
  {
   "cell_type": "markdown",
   "metadata": {},
   "source": [
    "Здесь нам пригодятся регулярные выражения. Они на основе каких-то правил обрабатывают текст. Например здесь мы хотим оставить только слова, так чтобы между словами были пробелы"
   ]
  },
  {
   "cell_type": "code",
   "execution_count": 39,
   "metadata": {
    "collapsed": false
   },
   "outputs": [
    {
     "data": {
      "text/plain": [
       "'доброго времени вчера мне поступило смс уведомление о том что банк делает мне эксклюзивное предложение по кредиту являюсь клиентом банка в настоящее время но в связи с проявленной инициативой банка решил воспользоваться предложением приехал сегодня днем в отделение заполнил анкету сразу пояснил без страховки сотрудник имени не помню начала сразу приводить мне доводы об отказе в кредитовании без страховки ну мы то понимаем что это их зарплата я молча ее выслушал в конце еще раз пояснил без страховки поставил соответствующий пункт в заявлении на кредит сотрудник принял заявление и сказала мы вам позвоним и уведомим о решении банка я уехал вечером 18 00 сотрудник мне действительно перезвонила сообщила что заявка одобрена я сказал что постараюсь успеть успел приехал 19 45 подхожу сотрудник говорит присаживайтесь я присел было чувство скрытой тревоги и не зря я еще раз уточнил без страховки и тут сотрудник меня уведомляет вам одобрен кредит с минимальным пакетом страхования я ей еще раз поясняю я написал в заявлении без страховки банк одобрил кредит в чем проблема сотрудник замялся и куда то убежал приходит с коллегой как я понял старший начальник или еще кто и у нее в руках буклеты страхования я еще раз им объясняю заявление рассмотренное и одобренное банком без страхования на что получаю ответ старшего сотрудника к сожалению мы не можем вам выдать уже одобренный банком кредит без страхования время 18 55 я попрощался и вышел резюмирую обман клиентов навязывание страховки вопрос к представителю банка уважаемый представитель на каком основании ваши сотрудники обманывают клиентов и самопроизвольно отказываются выдавать уже одобренный банком кредит что это за произвол как вы это допускаете почему я не могу получить одобренный кредит без страховки не купив страховку как это вообще понимать поймите одно из за таких случаев складывается негативное отношение к банку а не к сотруднику сотрудника можно заменить а вот репутацию исправить дело не легкое оценку изменю по мере решения вопроса оставил также обращение в колл центр'"
      ]
     },
     "execution_count": 39,
     "metadata": {},
     "output_type": "execute_result"
    }
   ],
   "source": [
    "regex = r'\\b\\w+\\b'\n",
    "\n",
    "' '.join(re.findall(regex, responses[2]['text'].lower()))"
   ]
  },
  {
   "cell_type": "markdown",
   "metadata": {},
   "source": [
    "Сформируем выборку для обучения отобрав только размеченные и почищенные отзывы"
   ]
  },
  {
   "cell_type": "code",
   "execution_count": 15,
   "metadata": {
    "collapsed": true
   },
   "outputs": [],
   "source": [
    "responses = [i for i in responses if i['rating_grade'] is not None]\n",
    "texts = [' '.join(re.findall(regex, i['text'].lower())) for i in responses]\n",
    "ratings = [i['rating_grade'] for i in responses]"
   ]
  },
  {
   "cell_type": "code",
   "execution_count": 16,
   "metadata": {
    "collapsed": false
   },
   "outputs": [
    {
     "data": {
      "image/png": "[encoded data removed]",
      "text/plain": [
       "<matplotlib.figure.Figure at 0x11de5bc18>"
      ]
     },
     "metadata": {},
     "output_type": "display_data"
    }
   ],
   "source": [
    "plt.hist(ratings)\n",
    "plt.grid()"
   ]
  },
  {
   "cell_type": "markdown",
   "metadata": {},
   "source": [
    "# Часть 1"
   ]
  },
  {
   "cell_type": "markdown",
   "metadata": {},
   "source": [
    "Мы уже немного пробовали позаниматься анализов текстов, поэтому я пропущу введение и сразу перейду к tf-idf"
   ]
  },
  {
   "cell_type": "markdown",
   "metadata": {},
   "source": [
    "#### TF-IDF\n",
    "\n",
    "Ещё один способ работы с текстовыми данными — TF-IDF (Term Frequency–Inverse Document Frequency). Рассмотрим коллекцию текстов $D$. Для каждого уникального слова $t$ из документа $d \\in D$ вычислим следующие величины:\n",
    "\n",
    "Term Frequency – количество вхождений слова в отношении к общему числу слов в тексте: $$\\text{tf}(t, d) = \\frac{n_{td}}{\\sum_{t \\in d} n_{td}},$$ где $n_{td}$ — количество вхождений слова $t$ в текст $d$.\n",
    "Inverse Document Frequency $$\\text{idf}(t, D) = \\log \\frac{\\left| D \\right|}{\\left| \\{d\\in D: t \\in d\\} \\right|},$$ где $\\left| \\{d\\in D: t \\in d\\} \\right|$ – количество текстов в коллекции, содержащих слово $t$.\n",
    "\n",
    "Тогда для каждой пары (слово, текст) $(t, d)$ вычислим величину: $$\\text{tf-idf}(t,d, D) = \\text{tf}(t, d)\\cdot \\text{idf}(t, D).$$\n",
    "\n",
    "Отметим, что значение $\\text{tf}(t, d)$ корректируется для часто встречающихся общеупотребимых слов при помощи значения $\\text{idf}(t, D).$\n",
    "\n",
    "Признаковым описанием одного объекта $d \\in D$ будет вектор $\\bigg(\\text{tf-idf}(t,d, D)\\bigg)_{t\\in V}$, где $V$ – словарь всех слов, встречающихся в коллекции $D$.\n",
    "\n"
   ]
  },
  {
   "cell_type": "code",
   "execution_count": 17,
   "metadata": {
    "collapsed": true
   },
   "outputs": [],
   "source": [
    "from sklearn.feature_extraction.text import TfidfVectorizer"
   ]
  },
  {
   "cell_type": "code",
   "execution_count": 56,
   "metadata": {
    "collapsed": false
   },
   "outputs": [
    {
     "data": {
      "text/plain": [
       "TfidfVectorizer(analyzer='word', binary=False, decode_error='strict',\n",
       "        dtype=<class 'numpy.int64'>, encoding='utf8', input='content',\n",
       "        lowercase=True, max_df=0.95, max_features=None, min_df=0.05,\n",
       "        ngram_range=(1, 1), norm='l2', preprocessor=None, smooth_idf=True,\n",
       "        stop_words=None, strip_accents=None, sublinear_tf=False,\n",
       "        token_pattern='(?u)\\\\b\\\\w\\\\w+\\\\b', tokenizer=None, use_idf=True,\n",
       "        vocabulary=None)"
      ]
     },
     "execution_count": 56,
     "metadata": {},
     "output_type": "execute_result"
    }
   ],
   "source": [
    "vectorizer = TfidfVectorizer(encoding='utf8', min_df=0.05, max_df=0.95)\n",
    "vectorizer.fit(texts)"
   ]
  },
  {
   "cell_type": "markdown",
   "metadata": {},
   "source": [
    "Теперь наш vectorizer обучился на нашей выборке и может генерировать вектор для каждого предложения"
   ]
  },
  {
   "cell_type": "code",
   "execution_count": 20,
   "metadata": {
    "collapsed": false
   },
   "outputs": [],
   "source": [
    "X = vectorizer.transform(texts)\n",
    "Y = (np.array(ratings) > 3).astype(int)"
   ]
  },
  {
   "cell_type": "code",
   "execution_count": 26,
   "metadata": {
    "collapsed": true
   },
   "outputs": [],
   "source": [
    "from sklearn.model_selection import train_test_split\n",
    "from sklearn.linear_model import LogisticRegression\n",
    "from sklearn.metrics import roc_auc_score, accuracy_score, roc_curve"
   ]
  },
  {
   "cell_type": "code",
   "execution_count": 22,
   "metadata": {
    "collapsed": true
   },
   "outputs": [],
   "source": [
    "X_train, X_test, y_train, y_test = train_test_split(X, Y)"
   ]
  },
  {
   "cell_type": "code",
   "execution_count": 23,
   "metadata": {
    "collapsed": true
   },
   "outputs": [],
   "source": [
    "classifier = LogisticRegression()"
   ]
  },
  {
   "cell_type": "code",
   "execution_count": 24,
   "metadata": {
    "collapsed": false
   },
   "outputs": [
    {
     "data": {
      "text/plain": [
       "LogisticRegression(C=1.0, class_weight=None, dual=False, fit_intercept=True,\n",
       "          intercept_scaling=1, max_iter=100, multi_class='ovr', n_jobs=1,\n",
       "          penalty='l2', random_state=None, solver='liblinear', tol=0.0001,\n",
       "          verbose=0, warm_start=False)"
      ]
     },
     "execution_count": 24,
     "metadata": {},
     "output_type": "execute_result"
    }
   ],
   "source": [
    "classifier.fit(X_train, y_train)"
   ]
  },
  {
   "cell_type": "code",
   "execution_count": 25,
   "metadata": {
    "collapsed": true
   },
   "outputs": [],
   "source": [
    "predictions = classifier.predict_proba(X_test)"
   ]
  },
  {
   "cell_type": "code",
   "execution_count": 28,
   "metadata": {
    "collapsed": false
   },
   "outputs": [],
   "source": [
    "fpr, tpr, _ = roc_curve(y_test, predictions[:, 1])"
   ]
  },
  {
   "cell_type": "code",
   "execution_count": 31,
   "metadata": {
    "collapsed": false
   },
   "outputs": [
    {
     "data": {
      "image/png": "[encoded data removed]",
      "text/plain": [
       "<matplotlib.figure.Figure at 0x11110c390>"
      ]
     },
     "metadata": {},
     "output_type": "display_data"
    }
   ],
   "source": [
    "plt.figure()\n",
    "plt.plot(fpr, tpr, color='darkorange',\n",
    "         lw=2, label='ROC curve (area = %0.2f)' % roc_auc_score(y_test, predictions[:, 1]))\n",
    "plt.plot([0, 1], [0, 1], color='navy', lw=2, linestyle='--')\n",
    "plt.xlim([0.0, 1.0])\n",
    "plt.ylim([0.0, 1.05])\n",
    "plt.xlabel('False Positive Rate')\n",
    "plt.ylabel('True Positive Rate')\n",
    "plt.title('Receiver operating characteristic example')\n",
    "plt.legend(loc=\"lower right\")\n",
    "plt.show()"
   ]
  },
  {
   "cell_type": "markdown",
   "metadata": {},
   "source": [
    "### Задача\n",
    "\n",
    "Теперь мы посчитали roc-auc score. Он очень неплохой. Теперь сами попробуйте посчитать accuracy"
   ]
  },
  {
   "cell_type": "code",
   "execution_count": 32,
   "metadata": {
    "collapsed": true
   },
   "outputs": [],
   "source": [
    "## ToDo посчитать accuracy"
   ]
  },
  {
   "cell_type": "markdown",
   "metadata": {},
   "source": [
    "### Логистическая регрессия\n",
    "\n",
    "Это очень неплохой вид линейных моделей. Главная причина ее использования - она умеет находить важность конкретной фичи для общего качества"
   ]
  },
  {
   "cell_type": "code",
   "execution_count": 35,
   "metadata": {
    "collapsed": false
   },
   "outputs": [
    {
     "name": "stdout",
     "output_type": "stream",
     "text": [
      "спасибо, 13.97\n",
      "приятно, 10.83\n",
      "благодарность, 9.17\n",
      "быстро, 8.30\n",
      "доволен, 6.92\n",
      "поблагодарить, 6.55\n",
      "очень, 6.14\n",
      "оперативно, 5.63\n",
      "молодцы, 5.43\n",
      "...\n",
      "никто, -3.37\n",
      "сказали, -3.38\n",
      "ответа, -3.56\n",
      "невозможно, -3.63\n",
      "нет, -3.76\n",
      "вы, -3.88\n",
      "почему, -4.19\n",
      "зачем, -4.22\n",
      "ответ, -4.59\n"
     ]
    }
   ],
   "source": [
    "f_weights = zip(vectorizer.get_feature_names(), classifier.coef_[0])\n",
    "f_weights = sorted(f_weights, key=lambda i: i[1])\n",
    "for i in range(1,10):\n",
    "    print('%s, %.2f' % f_weights[-i])\n",
    "    \n",
    "print('...')\n",
    "for i in reversed(range(1,10)):\n",
    "    print('%s, %.2f' % f_weights[i])"
   ]
  },
  {
   "cell_type": "markdown",
   "metadata": {},
   "source": [
    "# Часть 2"
   ]
  },
  {
   "cell_type": "markdown",
   "metadata": {},
   "source": [
    "TF-IDF крутая штука, но она не учитывает много всего что помогло бы нам лучше понимать тексты. Например, самое важное, она не достает зависимости между словами. Это очень важно, ведь что может лучше описывать слово чем слова рядом?"
   ]
  },
  {
   "cell_type": "markdown",
   "metadata": {},
   "source": [
    "К счастью лет 5 назад гуглом была придумана волшебная штука под названием word2vec\n",
    "\n",
    "Word2vec собирает статистику по совместному появлению слов в фразах, после чего методами нейронных сетей решает задачу снижения размерности и выдает на выходе компактные векторные представления слов, в максимальной степени отражающие отношения этих слов в обрабатываемых текстах\n",
    "\n",
    "Работая со словами в векторном представлении, мы работаем в 100-300 мерном пространстве. При таких больших размерностях обычное расстояние которое вы учили в школах бесполезно. Обычно для нахождения расстояния между точками используют косинусное расстояние\n",
    "\n",
    "$$ cosine(A, B) = \\frac{\\sum_{i=1}^n A_i B_i}{\\sqrt{\\sum_{i=1}^n A_i}\\sqrt{\\sum_{i=1}^n A_i}}$$"
   ]
  },
  {
   "cell_type": "markdown",
   "metadata": {},
   "source": [
    "Вот пример слов в двумерном пространстве\n",
    "\n",
    "![вот такая картинка](https://www.adityathakker.com/wp-content/uploads/2017/06/word-embeddings-994x675.png)"
   ]
  },
  {
   "cell_type": "markdown",
   "metadata": {},
   "source": [
    "С помощью такой модели можно делать что угодно со словами, например находить ближайшие, искать ошибки и проверять написание. Вот [тут](https://habr.com/post/249215/) написано подробнее.\n",
    "\n",
    "Мы можем получить вектор предложения как среднее по векторам всех его слов например."
   ]
  },
  {
   "cell_type": "markdown",
   "metadata": {},
   "source": [
    "Давайте сейчас не будем обучать свой word2vec с нуля, а просто возьмем готовый предобученный. "
   ]
  },
  {
   "cell_type": "code",
   "execution_count": 36,
   "metadata": {
    "collapsed": true
   },
   "outputs": [],
   "source": [
    "#to be continued"
   ]
  },
  {
   "cell_type": "code",
   "execution_count": null,
   "metadata": {
    "collapsed": true
   },
   "outputs": [],
   "source": [
    "  \n",
    "    "
   ]
  }
 ],
 "metadata": {
  "kernelspec": {
   "display_name": "Python 3",
   "language": "python",
   "name": "python3"
  },
  "language_info": {
   "codemirror_mode": {
    "name": "ipython",
    "version": 3
   },
   "file_extension": ".py",
   "mimetype": "text/x-python",
   "name": "python",
   "nbconvert_exporter": "python",
   "pygments_lexer": "ipython3",
   "version": "3.6.0"
  }
 },
 "nbformat": 4,
 "nbformat_minor": 2
}
