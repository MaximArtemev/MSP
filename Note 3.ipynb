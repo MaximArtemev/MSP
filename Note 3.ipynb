{
 "cells": [
  {
   "cell_type": "markdown",
   "metadata": {},
   "source": [
    "## Линейные классификаторы"
   ]
  },
  {
   "cell_type": "markdown",
   "metadata": {},
   "source": [
    "Рассмотрим бинарную классификацию. У нас есть два вектора, y_true и y_predicted, каждый состоит из нулей и единиц. Как можно оценить качество классификатора?"
   ]
  },
  {
   "cell_type": "markdown",
   "metadata": {},
   "source": [
    "$accuracy = \\frac{1}{n} \\sum_{i=1}^{n} y\\_true[i] != y\\_predicted[i]$"
   ]
  },
  {
   "cell_type": "markdown",
   "metadata": {},
   "source": [
    "Матрица ошибок\n",
    "\n",
    "![](https://docs.microsoft.com/ru-ru/azure/machine-learning/studio/media/evaluate-model-performance/6a.png)\n",
    "\n",
    "Можно выразить $accuracy = \\frac{TP + TN}{TP + TN + FP + FN}$\n",
    "\n",
    "Но более выразитильными будут \n",
    "\n",
    "$precision = \\frac{TP}{TP + FP}$\n",
    "\n",
    "$recall = \\frac{TP}{TP + FN}$\n",
    "\n",
    "Есть одна метрика, которая объединяет precision и recall.\n",
    "\n",
    "$F-мера = \\frac{2*precision*recall}{precision+recall}$"
   ]
  },
  {
   "cell_type": "markdown",
   "metadata": {},
   "source": [
    "ROC - AUC\n",
    "\n",
    "Хорошо визуализируемый алгоритм\n",
    "\n",
    "$FPR = \\frac{FP}{FP + TN}$\n",
    "\n",
    "$TPR = \\frac{TP}{TP + FN}$\n",
    "\n",
    "Зафиксируем порог, все значения выше которого будем считать 1, а ниже - 0. Пройдемся по каждому такому порогу, после чего нарисуем изменения FPR и TPR. Получим ломаную, площадь под ним будем считать ROC AUC\n",
    "\n",
    "![](https://i.stack.imgur.com/9NpXJ.png)"
   ]
  },
  {
   "cell_type": "markdown",
   "metadata": {},
   "source": [
    "Функции потерь такие же как и в линейной регрессии, но к ним добавляется логистическая функция\n",
    "\n",
    "$L = \\log(1 + \\exp^{-yz})$\n",
    "\n",
    "Такая функция потерь для линейной классификации позволяет нам оценивать уверенность модели в ответе"
   ]
  },
  {
   "cell_type": "code",
   "execution_count": 1,
   "metadata": {
    "collapsed": true
   },
   "outputs": [],
   "source": [
    "# Работа с титаником"
   ]
  },
  {
   "cell_type": "code",
   "execution_count": 2,
   "metadata": {
    "collapsed": true
   },
   "outputs": [],
   "source": [
    "# knn"
   ]
  },
  {
   "cell_type": "code",
   "execution_count": null,
   "metadata": {
    "collapsed": true
   },
   "outputs": [],
   "source": []
  }
 ],
 "metadata": {
  "kernelspec": {
   "display_name": "Python 3",
   "language": "python",
   "name": "python3"
  },
  "language_info": {
   "codemirror_mode": {
    "name": "ipython",
    "version": 3
   },
   "file_extension": ".py",
   "mimetype": "text/x-python",
   "name": "python",
   "nbconvert_exporter": "python",
   "pygments_lexer": "ipython3",
   "version": "3.6.0"
  }
 },
 "nbformat": 4,
 "nbformat_minor": 2
}
